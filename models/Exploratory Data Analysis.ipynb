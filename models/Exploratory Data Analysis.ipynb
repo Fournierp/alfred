{
 "cells": [
  {
   "cell_type": "markdown",
   "metadata": {},
   "source": [
    "# Stock Market Data\n",
    "\n",
    "In this notebook, we will do some Exploratory Data Analysis of Stock Market data ahead of Machine Learning design used for the web app."
   ]
  },
  {
   "cell_type": "code",
   "execution_count": 1,
   "metadata": {},
   "outputs": [],
   "source": [
    "import yfinance as yf\n",
    "\n",
    "import pandas as pd\n",
    "import numpy as np\n",
    "\n",
    "import datetime\n",
    "import time\n",
    "from math import pi\n",
    "\n",
    "from bokeh.layouts import column\n",
    "from bokeh.models import ColumnDataSource, RangeTool, HoverTool\n",
    "from bokeh.plotting import figure, output_notebook, show, save"
   ]
  },
  {
   "cell_type": "markdown",
   "metadata": {},
   "source": [
    "# EDA"
   ]
  },
  {
   "cell_type": "code",
   "execution_count": 2,
   "metadata": {},
   "outputs": [
    {
     "name": "stdout",
     "output_type": "stream",
     "text": [
      "[*********************100%***********************]  1 of 1 completed\n"
     ]
    },
    {
     "data": {
      "text/html": [
       "<div>\n",
       "<style scoped>\n",
       "    .dataframe tbody tr th:only-of-type {\n",
       "        vertical-align: middle;\n",
       "    }\n",
       "\n",
       "    .dataframe tbody tr th {\n",
       "        vertical-align: top;\n",
       "    }\n",
       "\n",
       "    .dataframe thead th {\n",
       "        text-align: right;\n",
       "    }\n",
       "</style>\n",
       "<table border=\"1\" class=\"dataframe\">\n",
       "  <thead>\n",
       "    <tr style=\"text-align: right;\">\n",
       "      <th></th>\n",
       "      <th>Date</th>\n",
       "      <th>Open</th>\n",
       "      <th>High</th>\n",
       "      <th>Low</th>\n",
       "      <th>Close</th>\n",
       "      <th>Adj Close</th>\n",
       "      <th>Volume</th>\n",
       "    </tr>\n",
       "  </thead>\n",
       "  <tbody>\n",
       "    <tr>\n",
       "      <th>0</th>\n",
       "      <td>2010-06-29</td>\n",
       "      <td>3.800000</td>\n",
       "      <td>5.000000</td>\n",
       "      <td>3.508000</td>\n",
       "      <td>4.778000</td>\n",
       "      <td>4.778000</td>\n",
       "      <td>93831500</td>\n",
       "    </tr>\n",
       "    <tr>\n",
       "      <th>1</th>\n",
       "      <td>2010-06-30</td>\n",
       "      <td>5.158000</td>\n",
       "      <td>6.084000</td>\n",
       "      <td>4.660000</td>\n",
       "      <td>4.766000</td>\n",
       "      <td>4.766000</td>\n",
       "      <td>85935500</td>\n",
       "    </tr>\n",
       "    <tr>\n",
       "      <th>2</th>\n",
       "      <td>2010-07-01</td>\n",
       "      <td>5.000000</td>\n",
       "      <td>5.184000</td>\n",
       "      <td>4.054000</td>\n",
       "      <td>4.392000</td>\n",
       "      <td>4.392000</td>\n",
       "      <td>41094000</td>\n",
       "    </tr>\n",
       "    <tr>\n",
       "      <th>3</th>\n",
       "      <td>2010-07-02</td>\n",
       "      <td>4.600000</td>\n",
       "      <td>4.620000</td>\n",
       "      <td>3.742000</td>\n",
       "      <td>3.840000</td>\n",
       "      <td>3.840000</td>\n",
       "      <td>25699000</td>\n",
       "    </tr>\n",
       "    <tr>\n",
       "      <th>4</th>\n",
       "      <td>2010-07-06</td>\n",
       "      <td>4.000000</td>\n",
       "      <td>4.000000</td>\n",
       "      <td>3.166000</td>\n",
       "      <td>3.222000</td>\n",
       "      <td>3.222000</td>\n",
       "      <td>34334500</td>\n",
       "    </tr>\n",
       "    <tr>\n",
       "      <th>...</th>\n",
       "      <td>...</td>\n",
       "      <td>...</td>\n",
       "      <td>...</td>\n",
       "      <td>...</td>\n",
       "      <td>...</td>\n",
       "      <td>...</td>\n",
       "      <td>...</td>\n",
       "    </tr>\n",
       "    <tr>\n",
       "      <th>2610</th>\n",
       "      <td>2020-11-09</td>\n",
       "      <td>439.500000</td>\n",
       "      <td>452.500000</td>\n",
       "      <td>421.000000</td>\n",
       "      <td>421.260010</td>\n",
       "      <td>421.260010</td>\n",
       "      <td>34833000</td>\n",
       "    </tr>\n",
       "    <tr>\n",
       "      <th>2611</th>\n",
       "      <td>2020-11-10</td>\n",
       "      <td>420.089996</td>\n",
       "      <td>420.089996</td>\n",
       "      <td>396.029999</td>\n",
       "      <td>410.359985</td>\n",
       "      <td>410.359985</td>\n",
       "      <td>30284200</td>\n",
       "    </tr>\n",
       "    <tr>\n",
       "      <th>2612</th>\n",
       "      <td>2020-11-11</td>\n",
       "      <td>416.450012</td>\n",
       "      <td>418.700012</td>\n",
       "      <td>410.579987</td>\n",
       "      <td>417.130005</td>\n",
       "      <td>417.130005</td>\n",
       "      <td>17357700</td>\n",
       "    </tr>\n",
       "    <tr>\n",
       "      <th>2613</th>\n",
       "      <td>2020-11-12</td>\n",
       "      <td>415.049988</td>\n",
       "      <td>423.000000</td>\n",
       "      <td>409.519989</td>\n",
       "      <td>411.760010</td>\n",
       "      <td>411.760010</td>\n",
       "      <td>19855100</td>\n",
       "    </tr>\n",
       "    <tr>\n",
       "      <th>2614</th>\n",
       "      <td>2020-11-13</td>\n",
       "      <td>410.850006</td>\n",
       "      <td>412.529999</td>\n",
       "      <td>401.660004</td>\n",
       "      <td>408.500000</td>\n",
       "      <td>408.500000</td>\n",
       "      <td>19771100</td>\n",
       "    </tr>\n",
       "  </tbody>\n",
       "</table>\n",
       "<p>2615 rows × 7 columns</p>\n",
       "</div>"
      ],
      "text/plain": [
       "           Date        Open        High         Low       Close   Adj Close  \\\n",
       "0    2010-06-29    3.800000    5.000000    3.508000    4.778000    4.778000   \n",
       "1    2010-06-30    5.158000    6.084000    4.660000    4.766000    4.766000   \n",
       "2    2010-07-01    5.000000    5.184000    4.054000    4.392000    4.392000   \n",
       "3    2010-07-02    4.600000    4.620000    3.742000    3.840000    3.840000   \n",
       "4    2010-07-06    4.000000    4.000000    3.166000    3.222000    3.222000   \n",
       "...         ...         ...         ...         ...         ...         ...   \n",
       "2610 2020-11-09  439.500000  452.500000  421.000000  421.260010  421.260010   \n",
       "2611 2020-11-10  420.089996  420.089996  396.029999  410.359985  410.359985   \n",
       "2612 2020-11-11  416.450012  418.700012  410.579987  417.130005  417.130005   \n",
       "2613 2020-11-12  415.049988  423.000000  409.519989  411.760010  411.760010   \n",
       "2614 2020-11-13  410.850006  412.529999  401.660004  408.500000  408.500000   \n",
       "\n",
       "        Volume  \n",
       "0     93831500  \n",
       "1     85935500  \n",
       "2     41094000  \n",
       "3     25699000  \n",
       "4     34334500  \n",
       "...        ...  \n",
       "2610  34833000  \n",
       "2611  30284200  \n",
       "2612  17357700  \n",
       "2613  19855100  \n",
       "2614  19771100  \n",
       "\n",
       "[2615 rows x 7 columns]"
      ]
     },
     "execution_count": 2,
     "metadata": {},
     "output_type": "execute_result"
    }
   ],
   "source": [
    "# Download the data\n",
    "company = \"TSLA\"\n",
    "df = yf.download(company)\n",
    "df = df.reset_index()\n",
    "df"
   ]
  },
  {
   "cell_type": "markdown",
   "metadata": {},
   "source": [
    "We can see some dates are missing."
   ]
  },
  {
   "cell_type": "code",
   "execution_count": 3,
   "metadata": {
    "scrolled": false
   },
   "outputs": [
    {
     "data": {
      "text/plain": [
       "[(Timestamp('2020-09-05 00:00:00'), Timestamp('2020-09-08 00:00:00')),\n",
       " (Timestamp('2020-09-12 00:00:00'), Timestamp('2020-09-14 00:00:00')),\n",
       " (Timestamp('2020-09-19 00:00:00'), Timestamp('2020-09-21 00:00:00')),\n",
       " (Timestamp('2020-09-26 00:00:00'), Timestamp('2020-09-28 00:00:00')),\n",
       " (Timestamp('2020-10-03 00:00:00'), Timestamp('2020-10-05 00:00:00')),\n",
       " (Timestamp('2020-10-10 00:00:00'), Timestamp('2020-10-12 00:00:00')),\n",
       " (Timestamp('2020-10-17 00:00:00'), Timestamp('2020-10-19 00:00:00')),\n",
       " (Timestamp('2020-10-24 00:00:00'), Timestamp('2020-10-26 00:00:00')),\n",
       " (Timestamp('2020-10-31 00:00:00'), Timestamp('2020-11-02 00:00:00')),\n",
       " (Timestamp('2020-11-07 00:00:00'), Timestamp('2020-11-09 00:00:00'))]"
      ]
     },
     "execution_count": 3,
     "metadata": {},
     "output_type": "execute_result"
    }
   ],
   "source": [
    "df['Date'] = pd.DatetimeIndex(data=df['Date'])\n",
    "dates = df['Date']\n",
    "\n",
    "DAY = datetime.timedelta(days=1)\n",
    "missing = [(d1+DAY, d2) for d1, d2 in zip(dates, dates[1:]) if (d2 - d1) > DAY]\n",
    "\n",
    "missing[-10:]"
   ]
  },
  {
   "cell_type": "markdown",
   "metadata": {},
   "source": [
    "Most of the missing days are holiday and week-ends: they occur every 5 days and have a span of 2 days. That is when the stock market closes."
   ]
  },
  {
   "cell_type": "code",
   "execution_count": 4,
   "metadata": {
    "scrolled": true
   },
   "outputs": [
    {
     "name": "stderr",
     "output_type": "stream",
     "text": [
      "/home/fournierp/.local/share/virtualenvs/alfred-Mlefol6Z/lib/python3.8/site-packages/bokeh/io/saving.py:126: UserWarning: save() called but no resources were supplied and output_file(...) was never called, defaulting to resources.CDN\n",
      "  warn(\"save() called but no resources were supplied and output_file(...) was never called, defaulting to resources.CDN\")\n",
      "/home/fournierp/.local/share/virtualenvs/alfred-Mlefol6Z/lib/python3.8/site-packages/bokeh/io/saving.py:139: UserWarning: save() called but no title was supplied and output_file(...) was never called, using default title 'Bokeh Plot'\n",
      "  warn(\"save() called but no title was supplied and output_file(...) was never called, using default title 'Bokeh Plot'\")\n"
     ]
    },
    {
     "data": {
      "text/plain": [
       "'/home/fournierp/Documents/alfred/models/plots/tsla_closing.html'"
      ]
     },
     "execution_count": 4,
     "metadata": {},
     "output_type": "execute_result"
    }
   ],
   "source": [
    "dff = df\n",
    "dff[\"Date\"] = pd.to_datetime(dff[\"Date\"])\n",
    "dates = dff['Date']\n",
    "source = ColumnDataSource(data=dict(date=dates, close=dff['Close']))\n",
    "\n",
    "p2 = figure(plot_height=300, plot_width=800, tools=\"xpan\", toolbar_location=None,\n",
    "           x_axis_type=\"datetime\", x_axis_location=\"above\",\n",
    "           title = \"Stock Market closing price graph for \\\"\"+company+\"\\\"\",\n",
    "           background_fill_color=\"#efefef\", x_range=(dates[dates.index[-100]], dates[dates.index[-1]]))\n",
    "\n",
    "p2.line('date', 'close', source=source)\n",
    "p2.yaxis.axis_label = 'Price'\n",
    "\n",
    "hover_tool = HoverTool(\n",
    "    tooltips=[\n",
    "        ( 'date',   '@date{%F}'            ),\n",
    "        ( 'close',  '$@{close}{%0.2f}' ), # use @{ } for field names with spaces\n",
    "    ],\n",
    "\n",
    "    formatters={\n",
    "        '@date'        : 'datetime', # use 'datetime' formatter for '@date' field\n",
    "        '@{close}' : 'printf',   # use 'printf' formatter for '@{adj close}' field\n",
    "                                     # use default 'numeral' formatter for other fields\n",
    "    },\n",
    "\n",
    "    # display a tooltip whenever the cursor is vertically in line with a glyph\n",
    "    mode='vline'\n",
    ")\n",
    "p2.add_tools(hover_tool)\n",
    "\n",
    "TOOLS = \"pan,wheel_zoom,box_zoom,reset,save\"\n",
    "\n",
    "select = figure(title=\"Drag the middle and edges of the selection box to change the range above\",\n",
    "                plot_height=130, plot_width=800, y_range=p2.y_range, tools=TOOLS, \n",
    "                x_axis_type=\"datetime\", y_axis_type=None,\n",
    "                toolbar_location=None, background_fill_color=\"#efefef\")\n",
    "\n",
    "range_tool = RangeTool(x_range=p2.x_range)\n",
    "range_tool.overlay.fill_color = \"navy\"\n",
    "range_tool.overlay.fill_alpha = 0.2\n",
    "\n",
    "select.line('date', 'close', source=source)\n",
    "select.ygrid.grid_line_color = None\n",
    "select.add_tools(range_tool, hover_tool)\n",
    "select.toolbar.active_multi = range_tool\n",
    "\n",
    "save(column(p2, select), filename=\"plots/tsla_closing.html\")\n",
    "# output_notebook()\n",
    "# show(column(p2, select))"
   ]
  },
  {
   "cell_type": "code",
   "execution_count": 5,
   "metadata": {
    "scrolled": true
   },
   "outputs": [
    {
     "name": "stderr",
     "output_type": "stream",
     "text": [
      "<ipython-input-5-c5d7d253f6ed>:2: SettingWithCopyWarning: \n",
      "A value is trying to be set on a copy of a slice from a DataFrame.\n",
      "Try using .loc[row_indexer,col_indexer] = value instead\n",
      "\n",
      "See the caveats in the documentation: https://pandas.pydata.org/pandas-docs/stable/user_guide/indexing.html#returning-a-view-versus-a-copy\n",
      "  dff[\"Date\"] = pd.to_datetime(dff[\"Date\"])\n",
      "/home/fournierp/.local/share/virtualenvs/alfred-Mlefol6Z/lib/python3.8/site-packages/bokeh/io/saving.py:126: UserWarning: save() called but no resources were supplied and output_file(...) was never called, defaulting to resources.CDN\n",
      "  warn(\"save() called but no resources were supplied and output_file(...) was never called, defaulting to resources.CDN\")\n",
      "/home/fournierp/.local/share/virtualenvs/alfred-Mlefol6Z/lib/python3.8/site-packages/bokeh/io/saving.py:139: UserWarning: save() called but no title was supplied and output_file(...) was never called, using default title 'Bokeh Plot'\n",
      "  warn(\"save() called but no title was supplied and output_file(...) was never called, using default title 'Bokeh Plot'\")\n"
     ]
    },
    {
     "data": {
      "text/plain": [
       "'/home/fournierp/Documents/alfred/models/plots/tsla_candlestick.html'"
      ]
     },
     "execution_count": 5,
     "metadata": {},
     "output_type": "execute_result"
    }
   ],
   "source": [
    "dff = df[-50:]\n",
    "dff[\"Date\"] = pd.to_datetime(dff[\"Date\"])\n",
    "\n",
    "inc = dff.Close > dff.Open\n",
    "dec = dff.Open > dff.Close\n",
    "w = 12*60*60*1000 # half day in ms\n",
    "\n",
    "TOOLS = \"pan,wheel_zoom,box_zoom,reset,save\"\n",
    "\n",
    "p = figure(x_axis_type=\"datetime\", tools=TOOLS, plot_width=900,\n",
    "           title = \"Candlestick graph for Stock \\\"\"+company+\"\\\"\")\n",
    "p.xaxis.major_label_orientation = pi/4\n",
    "p.grid.grid_line_alpha=0.3\n",
    "\n",
    "inc_source = ColumnDataSource(data=dict(\n",
    "    open1=dff.Open[inc],\n",
    "    close1=dff.Close[inc],\n",
    "    Date1=dff.Date[inc]\n",
    "))\n",
    "\n",
    "dec_source = ColumnDataSource(data=dict(\n",
    "    open2=dff.Open[dec],\n",
    "    close2=dff.Close[dec],\n",
    "    Date2=dff.Date[dec]\n",
    "))\n",
    "\n",
    "p.segment(dff.Date, dff.High, dff.Date, dff.Low, color=\"black\")\n",
    "r1 = p.vbar(x='Date1', width=w, top='open1', bottom='close1', source=inc_source,\n",
    "                fill_color=\"#D5E1DD\", line_color=\"black\")\n",
    "r2 = p.vbar(x='Date2', width=w, top='open2', bottom='close2', source=dec_source,\n",
    "                fill_color=\"#F2583E\", line_color=\"black\")\n",
    "\n",
    "# Set up the hover tooltip to display some useful data\n",
    "p.add_tools(HoverTool(\n",
    "    renderers=[r1],\n",
    "    tooltips=[\n",
    "        (\"Open\", \"$@open1\"),\n",
    "        (\"Close\", \"$@close1\"),\n",
    "        (\"Date\", \"@Date1{%F}\"),\n",
    "    ],\n",
    "    formatters={\n",
    "        '@Date1': 'datetime',\n",
    "    }))\n",
    "\n",
    "p.add_tools(HoverTool(\n",
    "    renderers=[r2],\n",
    "    tooltips=[\n",
    "        (\"Open\", \"$@open2\"),\n",
    "        (\"Close\", \"$@close2\"),\n",
    "        (\"Date\", \"@Date2{%F}\")\n",
    "    ],\n",
    "    formatters={\n",
    "        '@Date2': 'datetime'\n",
    "    }))\n",
    "\n",
    "save(p, filename=\"plots/tsla_candlestick.html\")\n",
    "# output_notebook()\n",
    "# show(p)"
   ]
  }
 ],
 "metadata": {
  "kernelspec": {
   "display_name": "Python 3",
   "language": "python",
   "name": "python3"
  },
  "language_info": {
   "codemirror_mode": {
    "name": "ipython",
    "version": 3
   },
   "file_extension": ".py",
   "mimetype": "text/x-python",
   "name": "python",
   "nbconvert_exporter": "python",
   "pygments_lexer": "ipython3",
   "version": "3.8.5"
  }
 },
 "nbformat": 4,
 "nbformat_minor": 4
}
