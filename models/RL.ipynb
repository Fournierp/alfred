{
 "cells": [
  {
   "cell_type": "markdown",
   "metadata": {
    "_uuid": "671caa9952527356f8996bc66db57b19935b4a35"
   },
   "source": [
    "#  Stock Market Dataset\n",
    "\n",
    "In this kernel, we will train and evaluate the model we will use in our Dash web app to predict optimal decision to take for future investments in a company given the last few day's stock prices. We will develop a Deep Q-Learning Agent."
   ]
  },
  {
   "cell_type": "code",
   "execution_count": 1,
   "metadata": {
    "_uuid": "6a1845b7cbc87560db996bdabafba31343a2af54",
    "collapsed": false
   },
   "outputs": [
    {
     "name": "stderr",
     "output_type": "stream",
     "text": [
      "Using TensorFlow backend.\n"
     ]
    }
   ],
   "source": [
    "import numpy as np\n",
    "import pandas as pd\n",
    "import time\n",
    "\n",
    "from agent import Agent"
   ]
  },
  {
   "cell_type": "markdown",
   "metadata": {},
   "source": [
    "## Pre-Processing\n",
    "\n",
    "Functions to load and process the data."
   ]
  },
  {
   "cell_type": "code",
   "execution_count": 2,
   "metadata": {
    "_uuid": "00309cc286d94a21231069d12edd4eefdc23b533",
    "collapsed": true,
    "scrolled": true
   },
   "outputs": [],
   "source": [
    "def get_data(path):\n",
    "    \"\"\"\n",
    "    Get a company's stock price history, extract the Closing price and index it by day.\n",
    "    \n",
    "    :path: path to the company's data \n",
    "    \n",
    "    :return: data\n",
    "    \"\"\"\n",
    "    data = pd.read_csv(path)\n",
    "    data['Date'] = pd.to_datetime(data['Date'])\n",
    "    return data.set_index('Date')[\"Close\"]\n",
    "    \n",
    "    \n",
    "def process_data(df, memory_len, training):\n",
    "        \"\"\"\n",
    "        Create individual series of 10 Closing prices.\n",
    "        \n",
    "        :df: raw data\n",
    "        :memory_len: size of the series\n",
    "        :training: boolean to determine whether to give training or testing data.\n",
    "        \n",
    "        :return: array of series of stock prices\n",
    "        \"\"\"\n",
    "        LSTM_inputs = []\n",
    "        for i in range(len(df) - memory_len):\n",
    "            LSTM_inputs.append(df[i:(i+memory_len)])\n",
    "\n",
    "        LSTM_inputs = [np.array(LSTM_input) for LSTM_input in LSTM_inputs]\n",
    "        LSTM_inputs = np.array(LSTM_inputs)\n",
    "        LSTM_inputs = np.reshape(LSTM_inputs, (LSTM_inputs.shape[0], 1, LSTM_inputs.shape[1]))\n",
    "        # Select the correct data\n",
    "        if (training):\n",
    "            return LSTM_inputs[0:int(len(df)*0.5)]\n",
    "        else:\n",
    "            return LSTM_inputs[int(len(df)*0.5)+1:]"
   ]
  },
  {
   "cell_type": "markdown",
   "metadata": {},
   "source": [
    "## Training\n",
    "\n"
   ]
  },
  {
   "cell_type": "code",
   "execution_count": 3,
   "metadata": {
    "collapsed": false,
    "inputHidden": false,
    "outputHidden": false,
    "scrolled": true
   },
   "outputs": [
    {
     "name": "stdout",
     "output_type": "stream",
     "text": [
      "Epochs\tEpsilon    \tProfits     \tReward     \tError     \tElapsed time\n",
      "5\t0.974600\t2590.530000\t18.000000\t83240.059994\t8.970923\n",
      "10\t0.935000\t1418.550000\t12.200000\t1385.228470\t11.469996\n",
      "15\t0.909600\t4591.740000\t32.400000\t516.165615\t7.420840\n",
      "20\t0.841400\t1947.810000\t9.400000\t671.667101\t20.870218\n",
      "25\t0.804600\t3.590000\t26.400000\t454.090466\t10.738450\n",
      "30\t0.776400\t2749.430000\t24.400000\t465.102871\t8.443142\n",
      "35\t0.671000\t2853.330000\t14.600000\t222962.216214\t30.407993\n",
      "40\t0.625600\t1485.890000\t2.600000\t175.142849\t13.537200\n",
      "45\t0.600200\t1677.520000\t14.000000\t30.024094\t7.945068\n",
      "50\t0.537800\t2466.400000\t0.600000\t38.064943\t18.606562\n"
     ]
    }
   ],
   "source": [
    "def train_agent(memory_len=100, epochs=50, model_name=\"dqn\"):\n",
    "    \"\"\"\n",
    "    Function responsible for training the model.\n",
    "    \n",
    "    :memory_len: number of previous stock prices use for analysis\n",
    "    :epochs: number of episodes of learning\n",
    "    :model_name: path of the saved model\n",
    "    \n",
    "    :return: agent\n",
    "    \"\"\"\n",
    "    # Get the training data\n",
    "    agent = Agent(process_data(get_data('Stocks/goog.us.txt'), memory_len, True), False, model_name, memory_len)\n",
    "    \n",
    "    l = len(agent.data) - 1\n",
    "    total_rewards = []\n",
    "    total_errors = []\n",
    "    show_log_freq = 5\n",
    "    print('\\t'.join(map(str, [\"Epochs\", \"Epsilon    \", \"Profits     \", \"Reward     \", \"Error     \", \"Elapsed time\"])))\n",
    "\n",
    "    start = time.time()\n",
    "    # Repeat for a number of epochs\n",
    "    for e in range(epochs):\n",
    "        total_error = total_reward = 0\n",
    "        # Reset the agent at the begining of each epoch\n",
    "        agent.reset()\n",
    "        # For each data point\n",
    "        for t in range(l):\n",
    "            # Get the last few stock prices\n",
    "            state = agent.data[t]\n",
    "            next_state = agent.data[t+1]\n",
    "            # Make a decision\n",
    "            decision = agent.decision(state)\n",
    "            # Perform the action\n",
    "            reward = agent.step(decision)\n",
    "            # Save the observations\n",
    "            agent.memory.append((state, next_state, decision, reward, agent.done))\n",
    "            # Learn after a certain number of iterations\n",
    "            if (e + 1) * (t + 1) % agent.batch_size == 0:\n",
    "                total_error += agent.learn()\n",
    "\n",
    "            total_reward += reward\n",
    "\n",
    "        total_rewards.append(total_reward)\n",
    "        total_errors.append(total_error)\n",
    "\n",
    "        # Save the model\n",
    "        if (e+1) % 10 == 0:\n",
    "            agent.model.save(agent.model_name + str(e+1))\n",
    "\n",
    "        # Log\n",
    "        if (e+1) % show_log_freq == 0:\n",
    "            # Average the last few (show_log_freq) rewards and errors\n",
    "            log_reward = sum(total_rewards[((e + 1) - show_log_freq):]) / show_log_freq\n",
    "            log_error = sum(total_errors[((e + 1) - show_log_freq):]) / show_log_freq\n",
    "            elapsed_time = time.time()-start\n",
    "            print('\\t'.join(map(str, [e+1, \"{0:02f}\".format(agent.epsilon), \"{0:02f}\".format(agent.profit),\n",
    "                        \"{0:02f}\".format(log_reward), \"{0:02f}\".format(log_error), \"{0:02f}\".format(elapsed_time)])))\n",
    "            start = time.time()\n",
    "            \n",
    "    return agent\n",
    "\n",
    "agent = train_agent()"
   ]
  },
  {
   "cell_type": "markdown",
   "metadata": {},
   "source": [
    "## Testing"
   ]
  },
  {
   "cell_type": "code",
   "execution_count": 4,
   "metadata": {
    "_uuid": "ef42d197a4c8b5f3e4600058d68f854492267a47",
    "collapsed": false
   },
   "outputs": [
    {
     "name": "stdout",
     "output_type": "stream",
     "text": [
      "--------------------------------\n",
      "3488.199999999999\n",
      "--------------------------------\n"
     ]
    }
   ],
   "source": [
    "def evaluate_agent():\n",
    "    \"\"\"\n",
    "    Function responsible for testing the model.\n",
    "    \"\"\"\n",
    "    # Get the training data\n",
    "    agent.data = process_data(get_data('Stocks/goog.us.txt'), agent.input_space, False)\n",
    "    \n",
    "    l = len(agent.data) - 1\n",
    "    # Set testing mode\n",
    "    agent.reset()\n",
    "\n",
    "    # For each data point\n",
    "    for t in range(l):\n",
    "        # Get the last few stock prices\n",
    "        state = agent.data[t]\n",
    "        # Make a decision\n",
    "        decision = agent.decision(state)\n",
    "        # Perform the action\n",
    "        reward = agent.step(decision)\n",
    "        \n",
    "    print(\"--------------------------------\")\n",
    "    print(agent.profit)\n",
    "    print(\"--------------------------------\")\n",
    "    \n",
    "evaluate_agent()"
   ]
  },
  {
   "cell_type": "code",
   "execution_count": null,
   "metadata": {
    "collapsed": true
   },
   "outputs": [],
   "source": []
  }
 ],
 "metadata": {
  "kernel_info": {
   "name": "python3"
  },
  "kernelspec": {
   "display_name": "Python 3",
   "language": "python",
   "name": "python3"
  },
  "language_info": {
   "codemirror_mode": {
    "name": "ipython",
    "version": 3
   },
   "file_extension": ".py",
   "mimetype": "text/x-python",
   "name": "python",
   "nbconvert_exporter": "python",
   "pygments_lexer": "ipython3",
   "version": "3.6.0"
  },
  "nteract": {
   "version": "0.12.3"
  }
 },
 "nbformat": 4,
 "nbformat_minor": 1
}
