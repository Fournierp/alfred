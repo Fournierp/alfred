{
  "cells": [
    {
      "metadata": {
        "_uuid": "671caa9952527356f8996bc66db57b19935b4a35"
      },
      "cell_type": "markdown",
      "source": "#  Stock Market Dataset\n\nref: https://www.kaggle.com/borismarjanovic/price-volume-data-for-all-us-stocks-etfs\n\nThis is the data we will use to train the models that will be used by our Dash web app."
    },
    {
      "metadata": {
        "trusted": true,
        "_uuid": "a4a134c291e3bb7755859e74f05555191b96355c"
      },
      "cell_type": "code",
      "source": "import os\nimport random\n\nimport pandas as pd\nimport numpy as np\n\nimport datetime\n\nimport matplotlib.pyplot as plt\nimport matplotlib.animation as animation\n\nfrom sklearn.metrics import mean_absolute_error\n\nfrom tensorflow.keras.models import Model\nfrom tensorflow.keras.layers import Dense, Dropout, Input, LSTM\nfrom tensorflow.keras.optimizers import Adam\nfrom tensorflow.keras.callbacks import EarlyStopping, ReduceLROnPlateau\nfrom tensorflow.keras.losses import categorical_crossentropy",
      "execution_count": 17,
      "outputs": []
    },
    {
      "metadata": {
        "_uuid": "dade3db2ca9b776c595dbfd61d4f86d3da51a5b6"
      },
      "cell_type": "markdown",
      "source": "## Pre-Processing\n\nFilter the company's data to use."
    },
    {
      "metadata": {
        "trusted": true,
        "_uuid": "68d5bcea37369213b8cdeca619493d533cb85928"
      },
      "cell_type": "code",
      "source": "os.chdir('../input/Data/Stocks/')",
      "execution_count": 2,
      "outputs": []
    },
    {
      "metadata": {
        "trusted": true,
        "_uuid": "0babb279ae5344b9224aa23dba5516040983460f"
      },
      "cell_type": "code",
      "source": "# This function will be used to determine if any value is missing\ndef has_nan(df):\n    return df.isnull().values.any()",
      "execution_count": 3,
      "outputs": []
    },
    {
      "metadata": {
        "trusted": true,
        "_uuid": "c2ebda6d366ad6434a513864ea5c02d6948254be"
      },
      "cell_type": "code",
      "source": "# This function will be used to determine if the data for a given company is too sparse\ndef has_few_data(df):\n    if(df.shape[0] < 2000):\n        return True\n    \n    return False",
      "execution_count": 4,
      "outputs": []
    },
    {
      "metadata": {
        "trusted": true,
        "_uuid": "e82b362fb909cff255880d577ec0ce7865c53fee"
      },
      "cell_type": "code",
      "source": "# This function will be used to determine if there is sufficient and complete data about the company stocks.\ndef use_company_data(df):\n    if(has_nan(df)):\n        return False\n    elif(has_few_data(df)):\n        return False\n    else:\n        return True",
      "execution_count": 5,
      "outputs": []
    },
    {
      "metadata": {
        "trusted": true,
        "_uuid": "c75bd5b496a60a700c1316efa95d1b693a99ac8d"
      },
      "cell_type": "code",
      "source": "files = []\nfor file in os.listdir():\n    try:\n        df = pd.read_csv(file, sep=',')\n        if(use_company_data( df )):\n            files.append(file)\n    except:\n        continue",
      "execution_count": 6,
      "outputs": []
    },
    {
      "metadata": {
        "_uuid": "bafbf4b80dd8fd109f6f6516d95fe6fb7d581d01"
      },
      "cell_type": "markdown",
      "source": "Load the data."
    },
    {
      "metadata": {
        "trusted": true,
        "_uuid": "83b6244047cffeab3f9119ad97b96d60a82516e8"
      },
      "cell_type": "code",
      "source": "df = pd.read_csv(files[0], sep=',')[\"Close\"]",
      "execution_count": 7,
      "outputs": []
    },
    {
      "metadata": {
        "_uuid": "63561cfeab35b68eb8ff76e7b100ca7eb6c3ac14"
      },
      "cell_type": "markdown",
      "source": "Split the data into train-validation-testing sets (70-10-20)."
    },
    {
      "metadata": {
        "trusted": true,
        "_uuid": "25daf71a0b0550cd23876a4fd6a45f815263f843"
      },
      "cell_type": "code",
      "source": "length = df.shape[0]",
      "execution_count": 8,
      "outputs": []
    },
    {
      "metadata": {
        "trusted": true,
        "_uuid": "920ede02b1752b7f7b777423f715a8792a4c0953"
      },
      "cell_type": "code",
      "source": "df_train = df[:int(length*0.7)]\ndf_valid = df[int(length*0.7)+1:int(length*0.8)]\ndf_test  = df[int(length*0.8)+1:]",
      "execution_count": 9,
      "outputs": []
    },
    {
      "metadata": {
        "trusted": true,
        "_uuid": "0f77bb9aea56bd3fa6c99e1b11fa20a1c0bfb9cc"
      },
      "cell_type": "code",
      "source": "window_len = 10\n\ndef split_data_variations_in_windows(df):\n    \"\"\"\n    Create series of 10 Closing prices variation and its coresponding 11th price variation.\n    \"\"\"\n    LSTM_inputs = []\n    for i in range(len(df) - window_len):\n        tmp_df = df[i:(i+window_len)].copy()\n        tmp_df = tmp_df/tmp_df.iloc[0] - 1\n\n        LSTM_inputs.append(tmp_df)\n        \n    LSTM_outputs = (df[window_len:].values/df[:-window_len].values)-1\n    LSTM_inputs = [np.array(LSTM_input) for LSTM_input in LSTM_inputs]\n    LSTM_inputs = np.array(LSTM_inputs)\n\n    return LSTM_inputs, LSTM_outputs\n\n\ndef split_data_prices_in_windows(df):\n    \"\"\"\n    Create series of 10 Closing prices and its coresponding 11th price.\n    \"\"\"\n    LSTM_inputs = []\n    for i in range(len(df) - window_len):\n        LSTM_inputs.append(df[i:(i+window_len)])\n        \n    LSTM_outputs = (df['Close'][window_len:].values/df['Close'][:-window_len].values)-1\n    LSTM_inputs = [np.array(LSTM_input) for LSTM_input in LSTM_inputs]\n    LSTM_inputs = np.array(LSTM_inputs)\n    \n    return LSTM_inputs, LSTM_outputs",
      "execution_count": 10,
      "outputs": []
    },
    {
      "metadata": {
        "trusted": true,
        "_uuid": "f70bf92d5227b9bd5457730b68c31decc1bc059b"
      },
      "cell_type": "code",
      "source": "LSTM_train_inputs, LSTM_train_outputs = split_data_variations_in_windows(df_train)\nLSTM_valid_inputs, LSTM_valid_outputs = split_data_variations_in_windows(df_valid)\nLSTM_test_inputs, LSTM_test_outputs = split_data_variations_in_windows(df_test)",
      "execution_count": 11,
      "outputs": []
    },
    {
      "metadata": {
        "trusted": true,
        "_uuid": "b2c4f7b5b13f41531fb114a327d9f3768864ee32"
      },
      "cell_type": "code",
      "source": "LSTM_train_inputs = np.reshape(LSTM_train_inputs, (LSTM_train_inputs.shape[0], 1, LSTM_train_inputs.shape[1]))\nLSTM_valid_inputs = np.reshape(LSTM_valid_inputs, (LSTM_valid_inputs.shape[0], 1, LSTM_valid_inputs.shape[1]))\nLSTM_test_inputs = np.reshape(LSTM_test_inputs, (LSTM_test_inputs.shape[0], 1, LSTM_test_inputs.shape[1]))",
      "execution_count": 12,
      "outputs": []
    },
    {
      "metadata": {
        "trusted": true,
        "_uuid": "f6e4929221a2480691b8ad50433518f456b9d76f"
      },
      "cell_type": "code",
      "source": "x = Input(shape=(1, 10))\nhidden = LSTM(32, return_sequences=True)(x)\nhidden = Dropout(0.1)(hidden)\nhidden = LSTM(16, return_sequences=False)(hidden)\nhidden = Dropout(0.1)(hidden)\ny = Dense(1, activation='linear')(hidden)\n\nmodel = Model(inputs=x, outputs=y)",
      "execution_count": 13,
      "outputs": []
    },
    {
      "metadata": {
        "trusted": true,
        "_uuid": "ee25d730799524da5565e32b18279972b6b2946e"
      },
      "cell_type": "code",
      "source": "optimizer = Adam(lr=0.001, beta_1=0.9, beta_2=0.999, epsilon=1e-8)\n\nlearning_rate_reduction = ReduceLROnPlateau(monitor='val_acc', patience=2, verbose=1, factor=0.4, min_lr=0.000001)\nearly_stopping = EarlyStopping(monitor='val_loss', min_delta=0, patience=3, verbose=1, mode='auto')\n\nmodel.compile(loss='mae', optimizer=optimizer, metrics=['mae'])",
      "execution_count": 14,
      "outputs": []
    },
    {
      "metadata": {
        "trusted": true,
        "_uuid": "41764aa629d87b8fc9bcfef3ad81d6dc2a844c1f"
      },
      "cell_type": "code",
      "source": "model.evaluate(LSTM_valid_inputs, LSTM_valid_outputs)",
      "execution_count": 19,
      "outputs": [
        {
          "output_type": "stream",
          "text": "307/307 [==============================] - 0s 111us/step\n",
          "name": "stdout"
        },
        {
          "output_type": "execute_result",
          "execution_count": 19,
          "data": {
            "text/plain": "[0.05072909870855389, 0.05072909870855389]"
          },
          "metadata": {}
        }
      ]
    },
    {
      "metadata": {
        "trusted": true,
        "_uuid": "77234c77615f1ab0f4d7aa50f5ec4adcb9660393"
      },
      "cell_type": "code",
      "source": "history = model.fit(LSTM_train_inputs, LSTM_train_outputs, \n                    validation_data = (LSTM_valid_inputs, LSTM_valid_outputs),\n                    epochs=5, batch_size=1, verbose=2, shuffle=True)",
      "execution_count": 15,
      "outputs": [
        {
          "output_type": "stream",
          "text": "Train on 2214 samples, validate on 307 samples\nEpoch 1/5\n - 10s - loss: 0.0252 - mean_absolute_error: 0.0252 - val_loss: 0.0514 - val_mean_absolute_error: 0.0514\nEpoch 2/5\n - 7s - loss: 0.0212 - mean_absolute_error: 0.0212 - val_loss: 0.0469 - val_mean_absolute_error: 0.0469\nEpoch 3/5\n - 7s - loss: 0.0214 - mean_absolute_error: 0.0214 - val_loss: 0.0513 - val_mean_absolute_error: 0.0513\nEpoch 4/5\n - 7s - loss: 0.0210 - mean_absolute_error: 0.0210 - val_loss: 0.0468 - val_mean_absolute_error: 0.0468\nEpoch 5/5\n - 7s - loss: 0.0204 - mean_absolute_error: 0.0204 - val_loss: 0.0507 - val_mean_absolute_error: 0.0507\n",
          "name": "stdout"
        }
      ]
    },
    {
      "metadata": {
        "trusted": false,
        "_uuid": "c85450218b63fbb1ded6f6a566d68b8f8c5fb694"
      },
      "cell_type": "code",
      "source": "x = np.linspace(0, len(LSTM_test_outputs), len(LSTM_test_outputs))\n\nfig, ax = plt.subplots()\nprediction, = ax.plot(x, model.predict(LSTM_test_inputs), color='m')\nground_truth, = ax.plot(x, LSTM_test_outputs, color='k')\n\ndef update(num, x, y1, line1, y2, line2):\n    line1.set_data(x[:num], y1[:num])\n    line2.set_data(x[:num], y2[:num])\n    return line1, line2,\n\nani = animation.FuncAnimation(fig, update, len(x), fargs=[x, y1, line1, y2, line2],\n                              interval=25, blit=True)\n\nani.save('test.gif',writer=\"imagemagick\")\nplt.show()",
      "execution_count": null,
      "outputs": []
    },
    {
      "metadata": {
        "trusted": true,
        "_uuid": "d008cecdc478fa00b3b42949b8dfd9c04f540390"
      },
      "cell_type": "code",
      "source": "mae = mean_absolute_error(LSTM_test_outputs, model.predict(LSTM_test_inputs))\nprint('The Mean Absolute Error is: {}'.format(MAE))",
      "execution_count": null,
      "outputs": []
    }
  ],
  "metadata": {
    "kernelspec": {
      "display_name": "Python 3",
      "language": "python",
      "name": "python3"
    },
    "language_info": {
      "name": "python",
      "version": "3.6.6",
      "mimetype": "text/x-python",
      "codemirror_mode": {
        "name": "ipython",
        "version": 3
      },
      "pygments_lexer": "ipython3",
      "nbconvert_exporter": "python",
      "file_extension": ".py"
    }
  },
  "nbformat": 4,
  "nbformat_minor": 1
}