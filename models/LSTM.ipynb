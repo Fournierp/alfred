{
 "cells": [
  {
   "cell_type": "markdown",
   "metadata": {},
   "source": [
    "\n",
    "# Stock Market Dataset\n",
    "\n",
    "In this kernel, we will design and train the model we will use in our web app. We will develop a Long Short-Term Memory (LSTM) Neural Network and harness its capability to solve problems in time series. This model will take as input Closing Stock Prices of previous days and predict the next days Stock Prices.\n"
   ]
  },
  {
   "cell_type": "code",
   "execution_count": 1,
   "metadata": {},
   "outputs": [],
   "source": [
    "import yfinance as yf\n",
    "\n",
    "import pandas as pd\n",
    "import numpy as np\n",
    "\n",
    "import datetime\n",
    "\n",
    "import matplotlib.pyplot as plt\n",
    "import matplotlib.animation as animation\n",
    "%matplotlib inline\n",
    "\n",
    "from sklearn.utils import shuffle\n",
    "from sklearn.metrics import mean_squared_error\n",
    "from sklearn.preprocessing import MinMaxScaler\n",
    "\n",
    "from tensorflow.keras.models import Model, Sequential\n",
    "from tensorflow.keras.layers import Dense, Dropout, Input, LSTM\n",
    "from tensorflow.keras.optimizers import Adam\n",
    "from tensorflow.keras.callbacks import Callback\n",
    "import tensorflow.keras.backend as K"
   ]
  },
  {
   "cell_type": "markdown",
   "metadata": {},
   "source": [
    "\n",
    "# Pre-Processing"
   ]
  },
  {
   "cell_type": "code",
   "execution_count": 2,
   "metadata": {},
   "outputs": [
    {
     "name": "stdout",
     "output_type": "stream",
     "text": [
      "[*********************100%***********************]  1 of 1 completed\n"
     ]
    },
    {
     "data": {
      "text/html": [
       "<div>\n",
       "<style scoped>\n",
       "    .dataframe tbody tr th:only-of-type {\n",
       "        vertical-align: middle;\n",
       "    }\n",
       "\n",
       "    .dataframe tbody tr th {\n",
       "        vertical-align: top;\n",
       "    }\n",
       "\n",
       "    .dataframe thead th {\n",
       "        text-align: right;\n",
       "    }\n",
       "</style>\n",
       "<table border=\"1\" class=\"dataframe\">\n",
       "  <thead>\n",
       "    <tr style=\"text-align: right;\">\n",
       "      <th></th>\n",
       "      <th>Open</th>\n",
       "      <th>High</th>\n",
       "      <th>Low</th>\n",
       "      <th>Close</th>\n",
       "      <th>Adj Close</th>\n",
       "      <th>Volume</th>\n",
       "    </tr>\n",
       "  </thead>\n",
       "  <tbody>\n",
       "    <tr>\n",
       "      <th>2010-06-29</th>\n",
       "      <td>3.800000</td>\n",
       "      <td>5.000000</td>\n",
       "      <td>3.508000</td>\n",
       "      <td>4.778000</td>\n",
       "      <td>4.778000</td>\n",
       "      <td>93831500</td>\n",
       "    </tr>\n",
       "    <tr>\n",
       "      <th>2010-06-30</th>\n",
       "      <td>5.158000</td>\n",
       "      <td>6.084000</td>\n",
       "      <td>4.660000</td>\n",
       "      <td>4.766000</td>\n",
       "      <td>4.766000</td>\n",
       "      <td>85935500</td>\n",
       "    </tr>\n",
       "    <tr>\n",
       "      <th>2010-07-01</th>\n",
       "      <td>5.000000</td>\n",
       "      <td>5.184000</td>\n",
       "      <td>4.054000</td>\n",
       "      <td>4.392000</td>\n",
       "      <td>4.392000</td>\n",
       "      <td>41094000</td>\n",
       "    </tr>\n",
       "    <tr>\n",
       "      <th>2010-07-02</th>\n",
       "      <td>4.600000</td>\n",
       "      <td>4.620000</td>\n",
       "      <td>3.742000</td>\n",
       "      <td>3.840000</td>\n",
       "      <td>3.840000</td>\n",
       "      <td>25699000</td>\n",
       "    </tr>\n",
       "    <tr>\n",
       "      <th>2010-07-06</th>\n",
       "      <td>4.000000</td>\n",
       "      <td>4.000000</td>\n",
       "      <td>3.166000</td>\n",
       "      <td>3.222000</td>\n",
       "      <td>3.222000</td>\n",
       "      <td>34334500</td>\n",
       "    </tr>\n",
       "    <tr>\n",
       "      <th>...</th>\n",
       "      <td>...</td>\n",
       "      <td>...</td>\n",
       "      <td>...</td>\n",
       "      <td>...</td>\n",
       "      <td>...</td>\n",
       "      <td>...</td>\n",
       "    </tr>\n",
       "    <tr>\n",
       "      <th>2020-11-09</th>\n",
       "      <td>439.500000</td>\n",
       "      <td>452.500000</td>\n",
       "      <td>421.000000</td>\n",
       "      <td>421.260010</td>\n",
       "      <td>421.260010</td>\n",
       "      <td>34833000</td>\n",
       "    </tr>\n",
       "    <tr>\n",
       "      <th>2020-11-10</th>\n",
       "      <td>420.089996</td>\n",
       "      <td>420.089996</td>\n",
       "      <td>396.029999</td>\n",
       "      <td>410.359985</td>\n",
       "      <td>410.359985</td>\n",
       "      <td>30284200</td>\n",
       "    </tr>\n",
       "    <tr>\n",
       "      <th>2020-11-11</th>\n",
       "      <td>416.450012</td>\n",
       "      <td>418.700012</td>\n",
       "      <td>410.579987</td>\n",
       "      <td>417.130005</td>\n",
       "      <td>417.130005</td>\n",
       "      <td>17357700</td>\n",
       "    </tr>\n",
       "    <tr>\n",
       "      <th>2020-11-12</th>\n",
       "      <td>415.049988</td>\n",
       "      <td>423.000000</td>\n",
       "      <td>409.519989</td>\n",
       "      <td>411.760010</td>\n",
       "      <td>411.760010</td>\n",
       "      <td>19855100</td>\n",
       "    </tr>\n",
       "    <tr>\n",
       "      <th>2020-11-13</th>\n",
       "      <td>410.850006</td>\n",
       "      <td>412.529999</td>\n",
       "      <td>401.660004</td>\n",
       "      <td>408.500000</td>\n",
       "      <td>408.500000</td>\n",
       "      <td>19771100</td>\n",
       "    </tr>\n",
       "  </tbody>\n",
       "</table>\n",
       "<p>2615 rows × 6 columns</p>\n",
       "</div>"
      ],
      "text/plain": [
       "                  Open        High         Low       Close   Adj Close  \\\n",
       "2010-06-29    3.800000    5.000000    3.508000    4.778000    4.778000   \n",
       "2010-06-30    5.158000    6.084000    4.660000    4.766000    4.766000   \n",
       "2010-07-01    5.000000    5.184000    4.054000    4.392000    4.392000   \n",
       "2010-07-02    4.600000    4.620000    3.742000    3.840000    3.840000   \n",
       "2010-07-06    4.000000    4.000000    3.166000    3.222000    3.222000   \n",
       "...                ...         ...         ...         ...         ...   \n",
       "2020-11-09  439.500000  452.500000  421.000000  421.260010  421.260010   \n",
       "2020-11-10  420.089996  420.089996  396.029999  410.359985  410.359985   \n",
       "2020-11-11  416.450012  418.700012  410.579987  417.130005  417.130005   \n",
       "2020-11-12  415.049988  423.000000  409.519989  411.760010  411.760010   \n",
       "2020-11-13  410.850006  412.529999  401.660004  408.500000  408.500000   \n",
       "\n",
       "              Volume  \n",
       "2010-06-29  93831500  \n",
       "2010-06-30  85935500  \n",
       "2010-07-01  41094000  \n",
       "2010-07-02  25699000  \n",
       "2010-07-06  34334500  \n",
       "...              ...  \n",
       "2020-11-09  34833000  \n",
       "2020-11-10  30284200  \n",
       "2020-11-11  17357700  \n",
       "2020-11-12  19855100  \n",
       "2020-11-13  19771100  \n",
       "\n",
       "[2615 rows x 6 columns]"
      ]
     },
     "execution_count": 2,
     "metadata": {},
     "output_type": "execute_result"
    }
   ],
   "source": [
    "df = yf.download(\"TSLA\")\n",
    "df.index.name = None\n",
    "df"
   ]
  },
  {
   "cell_type": "code",
   "execution_count": 3,
   "metadata": {},
   "outputs": [
    {
     "data": {
      "image/png": "[encoded data removed]",
      "text/plain": [
       "<Figure size 432x288 with 1 Axes>"
      ]
     },
     "metadata": {
      "needs_background": "light"
     },
     "output_type": "display_data"
    }
   ],
   "source": [
    "# Visualising the data\n",
    "plt.plot(df.index, df.iloc[:, 3:4], color = 'b', label = 'TESLA Stock Price')\n",
    "plt.title('TESLA Stock Price History')\n",
    "plt.xlabel('Date')\n",
    "plt.ylabel('TESLA Stock Price')\n",
    "plt.legend()\n",
    "plt.show()"
   ]
  },
  {
   "cell_type": "code",
   "execution_count": 4,
   "metadata": {},
   "outputs": [],
   "source": [
    "# 75-25 Train-Test Split\n",
    "train_set = df.iloc[:int(df.shape[0]*.75), 3:4].values\n",
    "test_set = df.iloc[int(df.shape[0]*.75):, 3:4].values"
   ]
  },
  {
   "cell_type": "code",
   "execution_count": 6,
   "metadata": {},
   "outputs": [],
   "source": [
    "# Feature Scaling\n",
    "sc = MinMaxScaler(feature_range = (0, 1))\n",
    "train_set_scaled = sc.fit_transform(train_set)\n",
    "test_set_scaled = sc.transform(test_set)"
   ]
  },
  {
   "cell_type": "code",
   "execution_count": 7,
   "metadata": {
    "scrolled": true
   },
   "outputs": [],
   "source": [
    "# Shape the data into strips of historical prices for the LSTM\n",
    "input_len = 60\n",
    "output_len = 1\n",
    "\n",
    "def split_data_prices_in_windows(df):\n",
    "    \"\"\"\n",
    "    Create series of \"input_len\" Closing prices (X) and its coresponding \"output_len\" price (Y).  \n",
    "    \"\"\"\n",
    "    LSTM_inputs = []\n",
    "    LSTM_outputs = []\n",
    "    for i in range(input_len, len(df)):\n",
    "        # Process the model's input sequence\n",
    "        historical_prices = df[i-input_len : i].copy()\n",
    "        LSTM_inputs.append(np.array(historical_prices))\n",
    "        \n",
    "        # Process the model's expected output sequence\n",
    "        target_price = df[i].copy()        \n",
    "        LSTM_outputs.append(np.array(target_price))\n",
    "        \n",
    "    LSTM_inputs = np.array(LSTM_inputs)\n",
    "    LSTM_outputs = np.array(LSTM_outputs)\n",
    "    \n",
    "    return LSTM_inputs, LSTM_outputs\n",
    "\n",
    "x_train, y_train = split_data_prices_in_windows(train_set_scaled)\n",
    "x_train = np.reshape(x_train, (x_train.shape[0], x_train.shape[1], 1))\n",
    "\n",
    "x_test, y_test = split_data_prices_in_windows(test_set_scaled)\n",
    "x_test = np.reshape(x_test, (x_test.shape[0], x_test.shape[1], 1))"
   ]
  },
  {
   "cell_type": "code",
   "execution_count": 8,
   "metadata": {},
   "outputs": [],
   "source": [
    "# Shuffle the train data\n",
    "x_train, y_train = shuffle(x_train, y_train)"
   ]
  },
  {
   "cell_type": "markdown",
   "metadata": {},
   "source": [
    "# Model Design"
   ]
  },
  {
   "cell_type": "code",
   "execution_count": 9,
   "metadata": {},
   "outputs": [],
   "source": [
    "class SGDRScheduler(Callback):\n",
    "    '''Cosine annealing learning rate scheduler with periodic restarts.\n",
    "    # Usage\n",
    "        ```python\n",
    "            schedule = SGDRScheduler(min_lr=1e-5,\n",
    "                                     max_lr=1e-2,\n",
    "                                     steps_per_epoch=np.ceil(epoch_size/batch_size),\n",
    "                                     lr_decay=0.9,\n",
    "                                     cycle_length=5,\n",
    "                                     mult_factor=1.5)\n",
    "            model.fit(X_train, Y_train, epochs=100, callbacks=[schedule])\n",
    "        ```\n",
    "        \n",
    "    # Arguments\n",
    "        min_lr: The lower bound of the learning rate range for the experiment.\n",
    "        max_lr: The upper bound of the learning rate range for the experiment.\n",
    "        steps_per_epoch: Number of mini-batches in the dataset. Calculated as `np.ceil(epoch_size/batch_size)`. \n",
    "        lr_decay: Reduce the max_lr after the completion of each cycle.\n",
    "                  Ex. To reduce the max_lr by 20% after each cycle, set this value to 0.8.\n",
    "        cycle_length: Initial number of epochs in a cycle.\n",
    "        mult_factor: Scale epochs_to_restart after each full cycle completion.\n",
    "        \n",
    "    # References\n",
    "        Blog post: jeremyjordan.me/nn-learning-rate\n",
    "        Original paper: http://arxiv.org/abs/1608.03983\n",
    "    '''\n",
    "    \n",
    "    def __init__(self,\n",
    "                 min_lr,\n",
    "                 max_lr,\n",
    "                 steps_per_epoch,\n",
    "                 lr_decay=1,\n",
    "                 cycle_length=10,\n",
    "                 mult_factor=2):\n",
    "\n",
    "        self.min_lr = min_lr\n",
    "        self.max_lr = max_lr\n",
    "        self.lr_decay = lr_decay\n",
    "\n",
    "        self.batch_since_restart = 0\n",
    "        self.next_restart = cycle_length\n",
    "\n",
    "        self.steps_per_epoch = steps_per_epoch\n",
    "\n",
    "        self.cycle_length = cycle_length\n",
    "        self.mult_factor = mult_factor\n",
    "\n",
    "        self.history = {}\n",
    "\n",
    "    def clr(self):\n",
    "        '''Calculate the learning rate.'''\n",
    "        fraction_to_restart = self.batch_since_restart / (self.steps_per_epoch * self.cycle_length)\n",
    "        lr = self.min_lr + 0.5 * (self.max_lr - self.min_lr) * (1 + np.cos(fraction_to_restart * np.pi))\n",
    "        return lr\n",
    "\n",
    "    def on_train_begin(self, logs={}):\n",
    "        '''Initialize the learning rate to the minimum value at the start of training.'''\n",
    "        logs = logs or {}\n",
    "        K.set_value(self.model.optimizer.lr, self.max_lr)\n",
    "\n",
    "    def on_batch_end(self, batch, logs={}):\n",
    "        '''Record previous batch statistics and update the learning rate.'''\n",
    "        logs = logs or {}\n",
    "        self.history.setdefault('lr', []).append(K.get_value(self.model.optimizer.lr))\n",
    "        for k, v in logs.items():\n",
    "            self.history.setdefault(k, []).append(v)\n",
    "\n",
    "        self.batch_since_restart += 1\n",
    "        K.set_value(self.model.optimizer.lr, self.clr())\n",
    "\n",
    "    def on_epoch_end(self, epoch, logs={}):\n",
    "        '''Check for end of current cycle, apply restarts when necessary.'''\n",
    "        if epoch + 1 == self.next_restart:\n",
    "            self.batch_since_restart = 0\n",
    "            self.cycle_length = np.ceil(self.cycle_length * self.mult_factor)\n",
    "            self.next_restart += self.cycle_length\n",
    "            self.max_lr *= self.lr_decay\n",
    "            self.best_weights = self.model.get_weights()\n",
    "\n",
    "    def on_train_end(self, logs={}):\n",
    "        '''Set weights to the values from the end of the most recent cycle for best performance.'''\n",
    "        self.model.set_weights(self.best_weights)"
   ]
  },
  {
   "cell_type": "code",
   "execution_count": 10,
   "metadata": {},
   "outputs": [],
   "source": [
    "class LossHistory(Callback):\n",
    "    def __init__(self):\n",
    "        self.loss = []\n",
    "        self.val_loss = []\n",
    "\n",
    "    def on_batch_end(self, epoch, logs={}):\n",
    "        self.loss.append(logs.get('loss'))\n",
    "    \n",
    "    def on_epoch_end(self, epoch, logs={}):\n",
    "        self.val_loss.append(logs.get('loss'))\n",
    "        \n",
    "cb = LossHistory()"
   ]
  },
  {
   "cell_type": "code",
   "execution_count": 11,
   "metadata": {},
   "outputs": [
    {
     "name": "stdout",
     "output_type": "stream",
     "text": [
      "19/19 [==============================] - 0s 8ms/step - loss: 4.3972 - mse: 4.3972\n"
     ]
    },
    {
     "data": {
      "text/plain": [
       "[4.397185325622559, 4.397185325622559]"
      ]
     },
     "execution_count": 11,
     "metadata": {},
     "output_type": "execute_result"
    }
   ],
   "source": [
    "def LSTM_model(input_shape, output_shape, neurons, dropout):\n",
    "    x = Input(shape=input_shape)\n",
    "    hidden = LSTM(neurons, return_sequences=True)(x)\n",
    "    hidden = Dropout(dropout)(hidden)\n",
    "    hidden = LSTM(neurons, return_sequences=True)(x)\n",
    "    hidden = Dropout(dropout)(hidden)\n",
    "    hidden = LSTM(neurons, return_sequences=True)(x)\n",
    "    hidden = Dropout(dropout)(hidden)\n",
    "    hidden = LSTM(neurons, return_sequences=False)(hidden)\n",
    "    hidden = Dropout(dropout)(hidden)\n",
    "    y = Dense(output_shape, activation='linear')(hidden)\n",
    "    return Model(inputs=x, outputs=y)\n",
    "\n",
    "model = LSTM_model((input_len, 1), output_len, 50, 0.2)\n",
    "\n",
    "optimizer = Adam(lr=0.001, beta_1=0.9, beta_2=0.999, epsilon=1e-8)\n",
    "\n",
    "model.compile(optimizer=optimizer, metrics=['mse'], loss = 'mean_squared_error')\n",
    "\n",
    "# Baseline\n",
    "model.evaluate(x_test, y_test)"
   ]
  },
  {
   "cell_type": "code",
   "execution_count": 12,
   "metadata": {},
   "outputs": [],
   "source": [
    "epoch_size = 100\n",
    "batch_size = 32\n",
    "\n",
    "# Create the Learning Rate Scheduler Callback\n",
    "schedule = SGDRScheduler(min_lr=1e-3,\n",
    "                         max_lr=1e-2,\n",
    "                         steps_per_epoch=np.ceil(epoch_size/batch_size),\n",
    "                         lr_decay=0.9,\n",
    "                         cycle_length= 3,\n",
    "                         mult_factor=1.5)"
   ]
  },
  {
   "cell_type": "markdown",
   "metadata": {},
   "source": [
    "# Training"
   ]
  },
  {
   "cell_type": "code",
   "execution_count": 13,
   "metadata": {
    "scrolled": true
   },
   "outputs": [
    {
     "name": "stdout",
     "output_type": "stream",
     "text": [
      "Epoch 1/100\n",
      "60/60 [==============================] - 3s 42ms/step - loss: 0.0374 - mse: 0.0374 - val_loss: 1.8014 - val_mse: 1.8014\n",
      "Epoch 2/100\n",
      "60/60 [==============================] - 3s 44ms/step - loss: 0.0033 - mse: 0.0033 - val_loss: 1.5692 - val_mse: 1.5692\n",
      "Epoch 3/100\n",
      "60/60 [==============================] - 2s 42ms/step - loss: 0.0032 - mse: 0.0032 - val_loss: 1.4962 - val_mse: 1.4962\n",
      "Epoch 4/100\n",
      "60/60 [==============================] - 2s 39ms/step - loss: 0.0026 - mse: 0.0026 - val_loss: 1.3524 - val_mse: 1.3524\n",
      "Epoch 5/100\n",
      "60/60 [==============================] - 2s 40ms/step - loss: 0.0025 - mse: 0.0025 - val_loss: 1.2341 - val_mse: 1.2341\n",
      "Epoch 6/100\n",
      "60/60 [==============================] - 2s 39ms/step - loss: 0.0023 - mse: 0.0023 - val_loss: 1.2227 - val_mse: 1.2227\n",
      "Epoch 7/100\n",
      "60/60 [==============================] - 2s 41ms/step - loss: 0.0021 - mse: 0.0021 - val_loss: 1.2000 - val_mse: 1.2000\n",
      "Epoch 8/100\n",
      "60/60 [==============================] - 2s 38ms/step - loss: 0.0021 - mse: 0.0021 - val_loss: 1.1325 - val_mse: 1.1325\n",
      "Epoch 9/100\n",
      "60/60 [==============================] - 2s 39ms/step - loss: 0.0020 - mse: 0.0020 - val_loss: 1.0331 - val_mse: 1.0331\n",
      "Epoch 10/100\n",
      "60/60 [==============================] - 2s 37ms/step - loss: 0.0021 - mse: 0.0021 - val_loss: 1.0012 - val_mse: 1.0012\n",
      "Epoch 11/100\n",
      "60/60 [==============================] - 2s 37ms/step - loss: 0.0019 - mse: 0.0019 - val_loss: 1.0100 - val_mse: 1.0100\n",
      "Epoch 12/100\n",
      "60/60 [==============================] - 2s 37ms/step - loss: 0.0018 - mse: 0.0018 - val_loss: 0.9723 - val_mse: 0.9723\n",
      "Epoch 13/100\n",
      "60/60 [==============================] - 2s 38ms/step - loss: 0.0017 - mse: 0.0017 - val_loss: 0.8841 - val_mse: 0.8841\n",
      "Epoch 14/100\n",
      "60/60 [==============================] - 2s 37ms/step - loss: 0.0017 - mse: 0.0017 - val_loss: 0.7934 - val_mse: 0.7934\n",
      "Epoch 15/100\n",
      "60/60 [==============================] - 2s 39ms/step - loss: 0.0018 - mse: 0.0018 - val_loss: 0.8693 - val_mse: 0.8693\n",
      "Epoch 16/100\n",
      "60/60 [==============================] - 2s 38ms/step - loss: 0.0016 - mse: 0.0016 - val_loss: 0.8019 - val_mse: 0.8019\n",
      "Epoch 17/100\n",
      "60/60 [==============================] - 3s 43ms/step - loss: 0.0013 - mse: 0.0013 - val_loss: 0.8020 - val_mse: 0.8020\n",
      "Epoch 18/100\n",
      "60/60 [==============================] - 3s 43ms/step - loss: 0.0015 - mse: 0.0015 - val_loss: 0.8352 - val_mse: 0.8352\n",
      "Epoch 19/100\n",
      "60/60 [==============================] - 2s 39ms/step - loss: 0.0014 - mse: 0.0014 - val_loss: 0.7626 - val_mse: 0.7626\n",
      "Epoch 20/100\n",
      "60/60 [==============================] - 2s 40ms/step - loss: 0.0014 - mse: 0.0014 - val_loss: 0.7538 - val_mse: 0.7538\n",
      "Epoch 21/100\n",
      "60/60 [==============================] - 2s 40ms/step - loss: 0.0016 - mse: 0.0016 - val_loss: 0.7975 - val_mse: 0.7975\n",
      "Epoch 22/100\n",
      "60/60 [==============================] - 2s 38ms/step - loss: 0.0013 - mse: 0.0013 - val_loss: 0.7130 - val_mse: 0.7130\n",
      "Epoch 23/100\n",
      "60/60 [==============================] - 2s 37ms/step - loss: 0.0013 - mse: 0.0013 - val_loss: 0.6739 - val_mse: 0.6739\n",
      "Epoch 24/100\n",
      "60/60 [==============================] - 2s 36ms/step - loss: 0.0013 - mse: 0.0013 - val_loss: 0.6848 - val_mse: 0.6848\n",
      "Epoch 25/100\n",
      "60/60 [==============================] - 2s 41ms/step - loss: 0.0012 - mse: 0.0012 - val_loss: 0.6267 - val_mse: 0.6267\n",
      "Epoch 26/100\n",
      "60/60 [==============================] - 2s 40ms/step - loss: 0.0013 - mse: 0.0013 - val_loss: 0.5862 - val_mse: 0.5862\n",
      "Epoch 27/100\n",
      "60/60 [==============================] - 2s 40ms/step - loss: 0.0012 - mse: 0.0012 - val_loss: 0.5614 - val_mse: 0.5614\n",
      "Epoch 28/100\n",
      "60/60 [==============================] - 2s 35ms/step - loss: 0.0015 - mse: 0.0015 - val_loss: 0.6047 - val_mse: 0.6047\n",
      "Epoch 29/100\n",
      "60/60 [==============================] - 2s 38ms/step - loss: 0.0011 - mse: 0.0011 - val_loss: 0.5238 - val_mse: 0.5238\n",
      "Epoch 30/100\n",
      "60/60 [==============================] - 2s 40ms/step - loss: 0.0011 - mse: 0.0011 - val_loss: 0.5915 - val_mse: 0.5915\n",
      "Epoch 31/100\n",
      "60/60 [==============================] - 2s 40ms/step - loss: 0.0012 - mse: 0.0012 - val_loss: 0.5682 - val_mse: 0.5682\n",
      "Epoch 32/100\n",
      "60/60 [==============================] - 2s 40ms/step - loss: 0.0010 - mse: 0.0010 - val_loss: 0.5753 - val_mse: 0.5753\n",
      "Epoch 33/100\n",
      "60/60 [==============================] - 2s 40ms/step - loss: 0.0013 - mse: 0.0013 - val_loss: 0.4807 - val_mse: 0.4807\n",
      "Epoch 34/100\n",
      "60/60 [==============================] - 2s 39ms/step - loss: 0.0011 - mse: 0.0011 - val_loss: 0.4950 - val_mse: 0.4950\n",
      "Epoch 35/100\n",
      "60/60 [==============================] - 2s 37ms/step - loss: 0.0011 - mse: 0.0011 - val_loss: 0.4440 - val_mse: 0.4440\n",
      "Epoch 36/100\n",
      "60/60 [==============================] - 2s 34ms/step - loss: 0.0011 - mse: 0.0011 - val_loss: 0.4785 - val_mse: 0.4785\n",
      "Epoch 37/100\n",
      "60/60 [==============================] - 2s 34ms/step - loss: 9.5780e-04 - mse: 9.5780e-04 - val_loss: 0.4136 - val_mse: 0.4136\n",
      "Epoch 38/100\n",
      "60/60 [==============================] - 2s 38ms/step - loss: 0.0011 - mse: 0.0011 - val_loss: 0.4132 - val_mse: 0.4132\n",
      "Epoch 39/100\n",
      "60/60 [==============================] - 2s 39ms/step - loss: 9.4560e-04 - mse: 9.4560e-04 - val_loss: 0.3960 - val_mse: 0.3960\n",
      "Epoch 40/100\n",
      "60/60 [==============================] - 2s 37ms/step - loss: 0.0010 - mse: 0.0010 - val_loss: 0.3264 - val_mse: 0.3264\n",
      "Epoch 41/100\n",
      "60/60 [==============================] - 2s 34ms/step - loss: 0.0010 - mse: 0.0010 - val_loss: 0.3667 - val_mse: 0.3667\n",
      "Epoch 42/100\n",
      "60/60 [==============================] - 2s 33ms/step - loss: 9.3485e-04 - mse: 9.3485e-04 - val_loss: 0.3734 - val_mse: 0.3734\n",
      "Epoch 43/100\n",
      "60/60 [==============================] - 2s 35ms/step - loss: 0.0011 - mse: 0.0011 - val_loss: 0.4140 - val_mse: 0.4140\n",
      "Epoch 44/100\n",
      "60/60 [==============================] - 2s 36ms/step - loss: 9.1436e-04 - mse: 9.1436e-04 - val_loss: 0.3776 - val_mse: 0.3776\n",
      "Epoch 45/100\n",
      "60/60 [==============================] - 2s 38ms/step - loss: 0.0010 - mse: 0.0010 - val_loss: 0.3361 - val_mse: 0.3361\n",
      "Epoch 46/100\n",
      "60/60 [==============================] - 2s 35ms/step - loss: 0.0010 - mse: 0.0010 - val_loss: 0.3181 - val_mse: 0.3181\n",
      "Epoch 47/100\n",
      "60/60 [==============================] - 2s 35ms/step - loss: 0.0011 - mse: 0.0011 - val_loss: 0.3510 - val_mse: 0.3510\n",
      "Epoch 48/100\n",
      "60/60 [==============================] - 2s 36ms/step - loss: 8.4872e-04 - mse: 8.4872e-04 - val_loss: 0.2857 - val_mse: 0.2857\n",
      "Epoch 49/100\n",
      "60/60 [==============================] - 2s 36ms/step - loss: 9.0966e-04 - mse: 9.0966e-04 - val_loss: 0.2530 - val_mse: 0.2530\n",
      "Epoch 50/100\n",
      "60/60 [==============================] - 2s 36ms/step - loss: 0.0011 - mse: 0.0011 - val_loss: 0.3036 - val_mse: 0.3036\n",
      "Epoch 51/100\n",
      "60/60 [==============================] - 2s 34ms/step - loss: 9.9373e-04 - mse: 9.9373e-04 - val_loss: 0.2831 - val_mse: 0.2831\n",
      "Epoch 52/100\n",
      "60/60 [==============================] - 2s 36ms/step - loss: 8.7042e-04 - mse: 8.7042e-04 - val_loss: 0.2877 - val_mse: 0.2877\n",
      "Epoch 53/100\n",
      "60/60 [==============================] - 2s 36ms/step - loss: 0.0011 - mse: 0.0011 - val_loss: 0.2350 - val_mse: 0.2350\n",
      "Epoch 54/100\n",
      "60/60 [==============================] - 2s 37ms/step - loss: 0.0010 - mse: 0.0010 - val_loss: 0.3066 - val_mse: 0.3066\n",
      "Epoch 55/100\n",
      "60/60 [==============================] - 2s 35ms/step - loss: 9.2770e-04 - mse: 9.2770e-04 - val_loss: 0.2922 - val_mse: 0.2922\n",
      "Epoch 56/100\n",
      "60/60 [==============================] - 2s 36ms/step - loss: 9.0352e-04 - mse: 9.0352e-04 - val_loss: 0.2778 - val_mse: 0.2778\n",
      "Epoch 57/100\n",
      "60/60 [==============================] - 2s 35ms/step - loss: 9.4839e-04 - mse: 9.4839e-04 - val_loss: 0.2278 - val_mse: 0.2278\n",
      "Epoch 58/100\n",
      "60/60 [==============================] - 2s 35ms/step - loss: 0.0010 - mse: 0.0010 - val_loss: 0.2170 - val_mse: 0.2170\n",
      "Epoch 59/100\n",
      "60/60 [==============================] - 2s 37ms/step - loss: 9.6280e-04 - mse: 9.6280e-04 - val_loss: 0.2155 - val_mse: 0.2155\n",
      "Epoch 60/100\n",
      "60/60 [==============================] - 2s 37ms/step - loss: 9.2269e-04 - mse: 9.2269e-04 - val_loss: 0.2992 - val_mse: 0.2992\n",
      "Epoch 61/100\n",
      "60/60 [==============================] - 2s 36ms/step - loss: 0.0010 - mse: 0.0010 - val_loss: 0.2175 - val_mse: 0.2175\n"
     ]
    },
    {
     "name": "stdout",
     "output_type": "stream",
     "text": [
      "Epoch 62/100\n",
      "60/60 [==============================] - 2s 36ms/step - loss: 9.2421e-04 - mse: 9.2421e-04 - val_loss: 0.2377 - val_mse: 0.2377\n",
      "Epoch 63/100\n",
      "60/60 [==============================] - 2s 37ms/step - loss: 8.5149e-04 - mse: 8.5149e-04 - val_loss: 0.2336 - val_mse: 0.2336\n",
      "Epoch 64/100\n",
      "60/60 [==============================] - 2s 36ms/step - loss: 8.7878e-04 - mse: 8.7878e-04 - val_loss: 0.3403 - val_mse: 0.3403\n",
      "Epoch 65/100\n",
      "60/60 [==============================] - 2s 37ms/step - loss: 0.0010 - mse: 0.0010 - val_loss: 0.2351 - val_mse: 0.2351\n",
      "Epoch 66/100\n",
      "60/60 [==============================] - 2s 37ms/step - loss: 9.4191e-04 - mse: 9.4191e-04 - val_loss: 0.2489 - val_mse: 0.2489\n",
      "Epoch 67/100\n",
      "60/60 [==============================] - 2s 40ms/step - loss: 9.7448e-04 - mse: 9.7448e-04 - val_loss: 0.2299 - val_mse: 0.2299\n",
      "Epoch 68/100\n",
      "60/60 [==============================] - 2s 37ms/step - loss: 8.7382e-04 - mse: 8.7382e-04 - val_loss: 0.2786 - val_mse: 0.2786\n",
      "Epoch 69/100\n",
      "60/60 [==============================] - 2s 37ms/step - loss: 0.0011 - mse: 0.0011 - val_loss: 0.2400 - val_mse: 0.2400\n",
      "Epoch 70/100\n",
      "60/60 [==============================] - 2s 39ms/step - loss: 8.7271e-04 - mse: 8.7271e-04 - val_loss: 0.2337 - val_mse: 0.2337\n",
      "Epoch 71/100\n",
      "60/60 [==============================] - 2s 37ms/step - loss: 9.3539e-04 - mse: 9.3539e-04 - val_loss: 0.2774 - val_mse: 0.2774\n",
      "Epoch 72/100\n",
      "60/60 [==============================] - 2s 37ms/step - loss: 0.0011 - mse: 0.0011 - val_loss: 0.2897 - val_mse: 0.2897\n",
      "Epoch 73/100\n",
      "60/60 [==============================] - 2s 40ms/step - loss: 8.8811e-04 - mse: 8.8811e-04 - val_loss: 0.2447 - val_mse: 0.2447\n",
      "Epoch 74/100\n",
      "60/60 [==============================] - 2s 40ms/step - loss: 9.6822e-04 - mse: 9.6822e-04 - val_loss: 0.2694 - val_mse: 0.2694\n",
      "Epoch 75/100\n",
      "60/60 [==============================] - 2s 38ms/step - loss: 0.0010 - mse: 0.0010 - val_loss: 0.2644 - val_mse: 0.2644\n",
      "Epoch 76/100\n",
      "60/60 [==============================] - 2s 39ms/step - loss: 8.8657e-04 - mse: 8.8657e-04 - val_loss: 0.2556 - val_mse: 0.2556\n",
      "Epoch 77/100\n",
      "60/60 [==============================] - 2s 39ms/step - loss: 8.5829e-04 - mse: 8.5829e-04 - val_loss: 0.2370 - val_mse: 0.2370\n",
      "Epoch 78/100\n",
      "60/60 [==============================] - 2s 37ms/step - loss: 0.0010 - mse: 0.0010 - val_loss: 0.3515 - val_mse: 0.3515\n",
      "Epoch 79/100\n",
      "60/60 [==============================] - 2s 37ms/step - loss: 0.0011 - mse: 0.0011 - val_loss: 0.4014 - val_mse: 0.4014\n",
      "Epoch 80/100\n",
      "60/60 [==============================] - 2s 37ms/step - loss: 9.7016e-04 - mse: 9.7016e-04 - val_loss: 0.2436 - val_mse: 0.2436\n",
      "Epoch 81/100\n",
      "60/60 [==============================] - 2s 40ms/step - loss: 8.1614e-04 - mse: 8.1614e-04 - val_loss: 0.2806 - val_mse: 0.2806\n",
      "Epoch 82/100\n",
      "60/60 [==============================] - 2s 41ms/step - loss: 9.0555e-04 - mse: 9.0555e-04 - val_loss: 0.2964 - val_mse: 0.2964\n",
      "Epoch 83/100\n",
      "60/60 [==============================] - 2s 38ms/step - loss: 8.9338e-04 - mse: 8.9338e-04 - val_loss: 0.2745 - val_mse: 0.2745\n",
      "Epoch 84/100\n",
      "60/60 [==============================] - 2s 39ms/step - loss: 0.0010 - mse: 0.0010 - val_loss: 0.1582 - val_mse: 0.1582\n",
      "Epoch 85/100\n",
      "60/60 [==============================] - 2s 38ms/step - loss: 0.0010 - mse: 0.0010 - val_loss: 0.3175 - val_mse: 0.3175\n",
      "Epoch 86/100\n",
      "60/60 [==============================] - 3s 42ms/step - loss: 8.5273e-04 - mse: 8.5273e-04 - val_loss: 0.2533 - val_mse: 0.2533\n",
      "Epoch 87/100\n",
      "60/60 [==============================] - 2s 38ms/step - loss: 8.3621e-04 - mse: 8.3621e-04 - val_loss: 0.2480 - val_mse: 0.2480\n",
      "Epoch 88/100\n",
      "60/60 [==============================] - 2s 38ms/step - loss: 8.5931e-04 - mse: 8.5931e-04 - val_loss: 0.2686 - val_mse: 0.2686\n",
      "Epoch 89/100\n",
      "60/60 [==============================] - 2s 39ms/step - loss: 0.0010 - mse: 0.0010 - val_loss: 0.2870 - val_mse: 0.2870\n",
      "Epoch 90/100\n",
      "60/60 [==============================] - 2s 40ms/step - loss: 0.0010 - mse: 0.0010 - val_loss: 0.3017 - val_mse: 0.3017\n",
      "Epoch 91/100\n",
      "60/60 [==============================] - 2s 39ms/step - loss: 0.0010 - mse: 0.0010 - val_loss: 0.2239 - val_mse: 0.2239\n",
      "Epoch 92/100\n",
      "60/60 [==============================] - 2s 38ms/step - loss: 8.6271e-04 - mse: 8.6271e-04 - val_loss: 0.3239 - val_mse: 0.3239\n",
      "Epoch 93/100\n",
      "60/60 [==============================] - 2s 38ms/step - loss: 8.1536e-04 - mse: 8.1536e-04 - val_loss: 0.2826 - val_mse: 0.2826\n",
      "Epoch 94/100\n",
      "60/60 [==============================] - 2s 38ms/step - loss: 9.5019e-04 - mse: 9.5019e-04 - val_loss: 0.2336 - val_mse: 0.2336\n",
      "Epoch 95/100\n",
      "60/60 [==============================] - 2s 37ms/step - loss: 8.4065e-04 - mse: 8.4065e-04 - val_loss: 0.2811 - val_mse: 0.2811\n",
      "Epoch 96/100\n",
      "60/60 [==============================] - 2s 38ms/step - loss: 9.5935e-04 - mse: 9.5935e-04 - val_loss: 0.2367 - val_mse: 0.2367\n",
      "Epoch 97/100\n",
      "60/60 [==============================] - 2s 38ms/step - loss: 9.4406e-04 - mse: 9.4406e-04 - val_loss: 0.3923 - val_mse: 0.3923\n",
      "Epoch 98/100\n",
      "60/60 [==============================] - 2s 38ms/step - loss: 8.3242e-04 - mse: 8.3242e-04 - val_loss: 0.3163 - val_mse: 0.3163\n",
      "Epoch 99/100\n",
      "60/60 [==============================] - 2s 39ms/step - loss: 8.5095e-04 - mse: 8.5095e-04 - val_loss: 0.3002 - val_mse: 0.3002\n",
      "Epoch 100/100\n",
      "60/60 [==============================] - 2s 40ms/step - loss: 0.0010 - mse: 0.0010 - val_loss: 0.2117 - val_mse: 0.2117\n"
     ]
    }
   ],
   "source": [
    "history = model.fit(x_train, y_train, validation_data = (x_test, y_test),\n",
    "          epochs = epoch_size, batch_size = batch_size, callbacks=[cb, schedule])"
   ]
  },
  {
   "cell_type": "markdown",
   "metadata": {},
   "source": [
    "# Evaluation"
   ]
  },
  {
   "cell_type": "code",
   "execution_count": 14,
   "metadata": {},
   "outputs": [
    {
     "name": "stdout",
     "output_type": "stream",
     "text": [
      "19/19 [==============================] - 0s 9ms/step - loss: 0.2447 - mse: 0.2447  \n"
     ]
    },
    {
     "data": {
      "text/plain": [
       "[0.24470371007919312, 0.24470371007919312]"
      ]
     },
     "execution_count": 14,
     "metadata": {},
     "output_type": "execute_result"
    }
   ],
   "source": [
    "model.evaluate(x_test, y_test)"
   ]
  },
  {
   "cell_type": "code",
   "execution_count": 15,
   "metadata": {},
   "outputs": [
    {
     "data": {
      "text/plain": [
       "Text(0.5, 0, 'Epoch')"
      ]
     },
     "execution_count": 15,
     "metadata": {},
     "output_type": "execute_result"
    },
    {
     "data": {
      "image/png": "[encoded data removed]",
      "text/plain": [
       "<Figure size 1152x432 with 2 Axes>"
      ]
     },
     "metadata": {
      "needs_background": "light"
     },
     "output_type": "display_data"
    }
   ],
   "source": [
    "f, (ax1, ax2) = plt.subplots(1, 2, sharey=True, figsize=(16,6))\n",
    "ax1.plot(cb.loss)\n",
    "ax1.set_title('Train Loss')\n",
    "ax1.set_ylabel('Loss')\n",
    "ax1.set_xlabel('Batch')\n",
    "ax2.plot(cb.val_loss)\n",
    "ax2.set_title('Validation Loss')\n",
    "ax2.set_ylabel('Loss')\n",
    "ax2.set_xlabel('Epoch')"
   ]
  },
  {
   "cell_type": "code",
   "execution_count": 18,
   "metadata": {},
   "outputs": [],
   "source": [
    "predicted_stock_price = model.predict(x_test)\n",
    "# Transform the predicted data back to stock prices\n",
    "predicted_stock_price = sc.inverse_transform(predicted_stock_price)"
   ]
  },
  {
   "cell_type": "code",
   "execution_count": 17,
   "metadata": {},
   "outputs": [
    {
     "data": {
      "image/png": "[encoded data removed]",
      "text/plain": [
       "<Figure size 432x288 with 1 Axes>"
      ]
     },
     "metadata": {
      "needs_background": "light"
     },
     "output_type": "display_data"
    }
   ],
   "source": [
    "# Visualising the results\n",
    "plt.plot(df.index[int(df.shape[0]*.75):], df.iloc[int(df.shape[0]*.75):, 3:4],\n",
    "         color = 'green', label = 'Real TESLA Stock Price')\n",
    "plt.plot(df.index[60+int(df.shape[0]*.75):], predicted_stock_price,\n",
    "         color = 'red', label = 'Predicted TESLA Stock Price')\n",
    "plt.title('TESLA Stock Price Prediction')\n",
    "plt.title('TESLA Stock Price Prediction')\n",
    "plt.xlabel('Time')\n",
    "plt.ylabel('TESLA Stock Price')\n",
    "plt.legend()\n",
    "plt.show()"
   ]
  },
  {
   "cell_type": "code",
   "execution_count": null,
   "metadata": {},
   "outputs": [],
   "source": []
  }
 ],
 "metadata": {
  "kernelspec": {
   "display_name": "Python 3",
   "language": "python",
   "name": "python3"
  },
  "language_info": {
   "codemirror_mode": {
    "name": "ipython",
    "version": 3
   },
   "file_extension": ".py",
   "mimetype": "text/x-python",
   "name": "python",
   "nbconvert_exporter": "python",
   "pygments_lexer": "ipython3",
   "version": "3.8.5"
  }
 },
 "nbformat": 4,
 "nbformat_minor": 4
}
