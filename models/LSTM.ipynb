{
 "cells": [
  {
   "cell_type": "markdown",
   "metadata": {
    "_uuid": "671caa9952527356f8996bc66db57b19935b4a35"
   },
   "source": [
    "#  Stock Market Dataset\n",
    "\n",
    "\n",
    "In this kernel, we will design and train the model we will use in our Dash web app. We will develop a Long Short-Term Memory (LSTM) Neural Network and harness its capability to solve problems in time series. This model will take as input Closing Stock Prices of previous days and predict the next days Stock Prices."
   ]
  },
  {
   "cell_type": "code",
   "execution_count": 1,
   "metadata": {
    "_uuid": "a4a134c291e3bb7755859e74f05555191b96355c",
    "collapsed": false
   },
   "outputs": [
    {
     "name": "stderr",
     "output_type": "stream",
     "text": [
      "Using TensorFlow backend.\n"
     ]
    }
   ],
   "source": [
    "import os\n",
    "import random\n",
    "\n",
    "import pandas as pd\n",
    "import numpy as np\n",
    "\n",
    "import datetime\n",
    "\n",
    "import matplotlib.pyplot as plt\n",
    "import matplotlib.animation as animation\n",
    "%matplotlib inline\n",
    "\n",
    "from sklearn.metrics import mean_squared_error\n",
    "\n",
    "from keras.models import Model\n",
    "from keras.layers import Dense, Dropout, Input, LSTM\n",
    "from keras.optimizers import Adam\n",
    "from keras.callbacks import Callback\n",
    "from keras.losses import categorical_crossentropy\n",
    "import keras.backend as K"
   ]
  },
  {
   "cell_type": "markdown",
   "metadata": {
    "_uuid": "dade3db2ca9b776c595dbfd61d4f86d3da51a5b6"
   },
   "source": [
    "## Pre-Processing\n",
    "\n",
    "The dataset we use contains a lot of company's Stock Price history, some of which is quite short. We will focus on NASDAQ companies so we filter the company's data to use."
   ]
  },
  {
   "cell_type": "code",
   "execution_count": 2,
   "metadata": {
    "_uuid": "68d5bcea37369213b8cdeca619493d533cb85928",
    "collapsed": false
   },
   "outputs": [],
   "source": [
    "os.chdir('Stocks/')"
   ]
  },
  {
   "cell_type": "code",
   "execution_count": 3,
   "metadata": {
    "_uuid": "0babb279ae5344b9224aa23dba5516040983460f",
    "collapsed": true
   },
   "outputs": [],
   "source": [
    "# This function will be used to determine if any value is missing\n",
    "def has_nan(df):\n",
    "    return df.isnull().values.any()"
   ]
  },
  {
   "cell_type": "code",
   "execution_count": 4,
   "metadata": {
    "_uuid": "c2ebda6d366ad6434a513864ea5c02d6948254be",
    "collapsed": true
   },
   "outputs": [],
   "source": [
    "# This function will be used to determine if the data for a given company is too sparse\n",
    "def has_few_data(df):\n",
    "    if(df.shape[0] < 2000):\n",
    "        return True\n",
    "    \n",
    "    return False"
   ]
  },
  {
   "cell_type": "code",
   "execution_count": 5,
   "metadata": {
    "_uuid": "e82b362fb909cff255880d577ec0ce7865c53fee",
    "collapsed": true
   },
   "outputs": [],
   "source": [
    "# This function will be used to determine if there is sufficient and complete data about the company stocks.\n",
    "def use_company_data(df):\n",
    "    if(has_nan(df)):\n",
    "        return False\n",
    "    elif(has_few_data(df)):\n",
    "        return False\n",
    "    else:\n",
    "        return True"
   ]
  },
  {
   "cell_type": "code",
   "execution_count": 6,
   "metadata": {
    "collapsed": true
   },
   "outputs": [],
   "source": [
    "# List of NASDAQ Top 100 Companies except Google's data used for evaluation.\n",
    "nasdaq = [\"atvi.us.txt\", \"adbe.us.txt\", \"amd.us.txt\", \"algn.us.txt\", \"alxn.us.txt\", \"amzn.us.txt\", \"amgn.us.txt\",\n",
    "          \"aal.us.txt\", \"adi.us.txt\", \"aapl.us.txt\", \"amat.us.txt\", \"asml.us.txt\", \"adsk.us.txt\", \"adp.us.txt\",\n",
    "          \"avgo.us.txt\", \"bidu.us.txt\", \"biib.us.txt\", \"bmrn.us.txt\", \"cdns.us.txt\", \"celg.us.txt\", \"cern.us.txt\",\n",
    "          \"chkp.us.txt\", \"chtr.us.txt\", \"ctrp.us.txt\", \"ctas.us.txt\", \"csco.us.txt\", \"ctxs.us.txt\", \"cmcsa.us.txt\", \n",
    "          \"cost.us.txt\", \"csx.us.txt\", \"ctsh.us.txt\", \"dltr.us.txt\", \"ea.us.txt\", \"ebay.us.txt\", \"expe.us.txt\", \n",
    "          \"fast.us.txt\", \"fb.us.txt\", \"fisv.us.txt\", \"fox.us.txt\", \"foxa.us.txt\", \"gild.us.txt\", \"goog.us.txt\", \n",
    "          \"has.us.txt\", \"hsic.us.txt\", \"ilmn.us.txt\", \"incy.us.txt\", \"intc.us.txt\", \"intu.us.txt\", \"isrg.us.txt\"]"
   ]
  },
  {
   "cell_type": "code",
   "execution_count": 7,
   "metadata": {
    "_uuid": "c75bd5b496a60a700c1316efa95d1b693a99ac8d",
    "collapsed": true
   },
   "outputs": [],
   "source": [
    "# Aggregate all the companies of interest.\n",
    "files = []\n",
    "for file in nasdaq:\n",
    "    try:\n",
    "        df = pd.read_csv(file, sep=',')\n",
    "        if(use_company_data( df )):\n",
    "            files.append(file)\n",
    "    except:\n",
    "        continue"
   ]
  },
  {
   "cell_type": "markdown",
   "metadata": {
    "_uuid": "bafbf4b80dd8fd109f6f6516d95fe6fb7d581d01"
   },
   "source": [
    "## Processing\n",
    "\n",
    "We will explore two kinds of data types:\n",
    "- Closing Stock price variation: percent variation between two consecutinve stock prices. This format is efficient if we want our model to be accurate for companies with a high variance of stock prices (high or low, stable or unstable).\n",
    "- Raw Closing Stock price."
   ]
  },
  {
   "cell_type": "code",
   "execution_count": 8,
   "metadata": {
    "_uuid": "0f77bb9aea56bd3fa6c99e1b11fa20a1c0bfb9cc",
    "collapsed": true
   },
   "outputs": [],
   "source": [
    "input_len = 15\n",
    "output_len = 3\n",
    "\n",
    "def split_data_variations_in_windows(df):\n",
    "    \"\"\"\n",
    "    Create series of \"input_len\" Closing prices variation and its coresponding \"output_len\" price variation.\n",
    "    \"\"\"\n",
    "    LSTM_inputs = []\n",
    "    LSTM_outputs = []\n",
    "    for i in range(len(df) - input_len - 1 - output_len):\n",
    "        # Compute the percent change between a stock price and its previous stock price.\n",
    "        # Process the model's input sequence.\n",
    "        tmp_numerator = df[i+1 : (i+input_len+1)].copy()\n",
    "        tmp_denominator = df[i : (i+input_len)].copy()\n",
    "        tmp_df = tmp_numerator.values / tmp_denominator.values - 1\n",
    "        LSTM_inputs.append(np.array(tmp_df))\n",
    "        \n",
    "        # Process the model's expected output sequence\n",
    "        tmp_numerator = df[i+input_len+1 : (i+input_len+output_len+1)].copy()\n",
    "        tmp_denominator = df[i+input_len : (i+input_len+output_len)].copy()        \n",
    "        tmp_df = tmp_numerator.values / tmp_denominator.values - 1\n",
    "        LSTM_outputs.append(np.array(tmp_df))\n",
    "        \n",
    "    LSTM_inputs = np.array(LSTM_inputs)\n",
    "    LSTM_outputs = np.array(LSTM_outputs)\n",
    "\n",
    "    return LSTM_inputs, LSTM_outputs\n",
    "\n",
    "\n",
    "def split_data_prices_in_windows(df):\n",
    "    \"\"\"\n",
    "    Create series of \"input_len\" Closing prices and its coresponding  \"output_len\" price.    \n",
    "    \"\"\"\n",
    "    LSTM_inputs = []\n",
    "    LSTM_outputs = []    \n",
    "    for i in range(len(df) - input_len - 1 - output_len):\n",
    "        # Process the model's input sequence\n",
    "        tmp_df = df[i : (i+input_len)].copy()\n",
    "        LSTM_inputs.append(np.array(tmp_df))\n",
    "        \n",
    "        # Process the model's expected output sequence\n",
    "        tmp_df = df[i+input_len : (i+input_len+output_len)].copy()        \n",
    "        LSTM_outputs.append(np.array(tmp_df))\n",
    "        \n",
    "    LSTM_inputs = np.array(LSTM_inputs)\n",
    "    LSTM_outputs = np.array(LSTM_outputs)\n",
    "    \n",
    "    return LSTM_inputs, LSTM_outputs"
   ]
  },
  {
   "cell_type": "markdown",
   "metadata": {
    "_uuid": "b7682a95a5c8e16b654930b743d352ba63e4c3e5"
   },
   "source": [
    "## Model Design\n",
    "\n",
    "Let us use the methods written from jeremyjordan.me/nn-learning-rate. One will be used to find the best Learning Rate Range in which to operate and the Second, to perform Stochastic Gradient Descent with Restarts to avoid local minimas.\n",
    "\n",
    "We will create our model with an Adam Optimizer to accelerate learning. Since this is a regression problem, we will use a Mean Square Error problem."
   ]
  },
  {
   "cell_type": "code",
   "execution_count": 9,
   "metadata": {
    "_uuid": "f4f569b5b80849051b83ae4d9086eb3a9e435623",
    "collapsed": true
   },
   "outputs": [],
   "source": [
    "class LRFinder(Callback):\n",
    "    \n",
    "    '''\n",
    "    A simple callback for finding the optimal learning rate range for your model + dataset. \n",
    "    \n",
    "    # Usage\n",
    "        ```python\n",
    "            lr_finder = LRFinder(min_lr=1e-5, \n",
    "                                 max_lr=1e-2, \n",
    "                                 steps_per_epoch=np.ceil(epoch_size/batch_size), \n",
    "                                 epochs=3)\n",
    "            model.fit(X_train, Y_train, callbacks=[lr_finder])\n",
    "            \n",
    "            lr_finder.plot_loss()\n",
    "        ```\n",
    "    \n",
    "    # Arguments\n",
    "        min_lr: The lower bound of the learning rate range for the experiment.\n",
    "        max_lr: The upper bound of the learning rate range for the experiment.\n",
    "        steps_per_epoch: Number of mini-batches in the dataset. Calculated as `np.ceil(epoch_size/batch_size)`. \n",
    "        epochs: Number of epochs to run experiment. Usually between 2 and 4 epochs is sufficient. \n",
    "        \n",
    "    # References\n",
    "        Blog post: jeremyjordan.me/nn-learning-rate\n",
    "        Original paper: https://arxiv.org/abs/1506.01186\n",
    "    '''\n",
    "    \n",
    "    def __init__(self, min_lr=1e-5, max_lr=1e-2, steps_per_epoch=None, epochs=None):\n",
    "        super().__init__()\n",
    "        \n",
    "        self.min_lr = min_lr\n",
    "        self.max_lr = max_lr\n",
    "        self.total_iterations = steps_per_epoch * epochs\n",
    "        self.iteration = 0\n",
    "        self.history = {}\n",
    "        \n",
    "    def clr(self):\n",
    "        '''Calculate the learning rate.'''\n",
    "        x = self.iteration / self.total_iterations \n",
    "        return self.min_lr + (self.max_lr-self.min_lr) * x\n",
    "        \n",
    "    def on_train_begin(self, logs=None):\n",
    "        '''Initialize the learning rate to the minimum value at the start of training.'''\n",
    "        logs = logs or {}\n",
    "        K.set_value(self.model.optimizer.lr, self.min_lr)\n",
    "        \n",
    "    def on_batch_end(self, epoch, logs=None):\n",
    "        '''Record previous batch statistics and update the learning rate.'''\n",
    "        logs = logs or {}\n",
    "        self.iteration += 1\n",
    "\n",
    "        self.history.setdefault('lr', []).append(K.get_value(self.model.optimizer.lr))\n",
    "        self.history.setdefault('iterations', []).append(self.iteration)\n",
    "\n",
    "        for k, v in logs.items():\n",
    "            self.history.setdefault(k, []).append(v)\n",
    "            \n",
    "        K.set_value(self.model.optimizer.lr, self.clr())\n",
    " \n",
    "    def plot_lr(self):\n",
    "        '''Helper function to quickly inspect the learning rate schedule.'''\n",
    "        plt.plot(self.history['iterations'], self.history['lr'])\n",
    "        plt.yscale('log')\n",
    "        plt.xlabel('Iteration')\n",
    "        plt.ylabel('Learning rate')\n",
    "        \n",
    "    def plot_loss(self):\n",
    "        '''Helper function to quickly observe the learning rate experiment results.'''\n",
    "        plt.plot(self.history['lr'], self.history['loss'])\n",
    "        plt.xscale('log')\n",
    "        plt.xlabel('Learning rate')\n",
    "        plt.ylabel('Loss')"
   ]
  },
  {
   "cell_type": "code",
   "execution_count": 10,
   "metadata": {
    "_uuid": "46e1ed38f1942d2eb9e188f99bbd0d1d390aabed",
    "collapsed": true
   },
   "outputs": [],
   "source": [
    "class SGDRScheduler(Callback):\n",
    "    '''Cosine annealing learning rate scheduler with periodic restarts.\n",
    "    # Usage\n",
    "        ```python\n",
    "            schedule = SGDRScheduler(min_lr=1e-5,\n",
    "                                     max_lr=1e-2,\n",
    "                                     steps_per_epoch=np.ceil(epoch_size/batch_size),\n",
    "                                     lr_decay=0.9,\n",
    "                                     cycle_length=5,\n",
    "                                     mult_factor=1.5)\n",
    "            model.fit(X_train, Y_train, epochs=100, callbacks=[schedule])\n",
    "        ```\n",
    "        \n",
    "    # Arguments\n",
    "        min_lr: The lower bound of the learning rate range for the experiment.\n",
    "        max_lr: The upper bound of the learning rate range for the experiment.\n",
    "        steps_per_epoch: Number of mini-batches in the dataset. Calculated as `np.ceil(epoch_size/batch_size)`. \n",
    "        lr_decay: Reduce the max_lr after the completion of each cycle.\n",
    "                  Ex. To reduce the max_lr by 20% after each cycle, set this value to 0.8.\n",
    "        cycle_length: Initial number of epochs in a cycle.\n",
    "        mult_factor: Scale epochs_to_restart after each full cycle completion.\n",
    "        \n",
    "    # References\n",
    "        Blog post: jeremyjordan.me/nn-learning-rate\n",
    "        Original paper: http://arxiv.org/abs/1608.03983\n",
    "    '''\n",
    "    \n",
    "    def __init__(self,\n",
    "                 min_lr,\n",
    "                 max_lr,\n",
    "                 steps_per_epoch,\n",
    "                 lr_decay=1,\n",
    "                 cycle_length=10,\n",
    "                 mult_factor=2):\n",
    "\n",
    "        self.min_lr = min_lr\n",
    "        self.max_lr = max_lr\n",
    "        self.lr_decay = lr_decay\n",
    "\n",
    "        self.batch_since_restart = 0\n",
    "        self.next_restart = cycle_length\n",
    "\n",
    "        self.steps_per_epoch = steps_per_epoch\n",
    "\n",
    "        self.cycle_length = cycle_length\n",
    "        self.mult_factor = mult_factor\n",
    "\n",
    "        self.history = {}\n",
    "\n",
    "    def clr(self):\n",
    "        '''Calculate the learning rate.'''\n",
    "        fraction_to_restart = self.batch_since_restart / (self.steps_per_epoch * self.cycle_length)\n",
    "        lr = self.min_lr + 0.5 * (self.max_lr - self.min_lr) * (1 + np.cos(fraction_to_restart * np.pi))\n",
    "        return lr\n",
    "\n",
    "    def on_train_begin(self, logs={}):\n",
    "        '''Initialize the learning rate to the minimum value at the start of training.'''\n",
    "        logs = logs or {}\n",
    "        K.set_value(self.model.optimizer.lr, self.max_lr)\n",
    "\n",
    "    def on_batch_end(self, batch, logs={}):\n",
    "        '''Record previous batch statistics and update the learning rate.'''\n",
    "        logs = logs or {}\n",
    "        self.history.setdefault('lr', []).append(K.get_value(self.model.optimizer.lr))\n",
    "        for k, v in logs.items():\n",
    "            self.history.setdefault(k, []).append(v)\n",
    "\n",
    "        self.batch_since_restart += 1\n",
    "        K.set_value(self.model.optimizer.lr, self.clr())\n",
    "\n",
    "    def on_epoch_end(self, epoch, logs={}):\n",
    "        '''Check for end of current cycle, apply restarts when necessary.'''\n",
    "        if epoch + 1 == self.next_restart:\n",
    "            self.batch_since_restart = 0\n",
    "            self.cycle_length = np.ceil(self.cycle_length * self.mult_factor)\n",
    "            self.next_restart += self.cycle_length\n",
    "            self.max_lr *= self.lr_decay\n",
    "            self.best_weights = self.model.get_weights()\n",
    "\n",
    "    def on_train_end(self, logs={}):\n",
    "        '''Set weights to the values from the end of the most recent cycle for best performance.'''\n",
    "        self.model.set_weights(self.best_weights)"
   ]
  },
  {
   "cell_type": "code",
   "execution_count": 11,
   "metadata": {
    "_uuid": "f6e4929221a2480691b8ad50433518f456b9d76f",
    "collapsed": false
   },
   "outputs": [],
   "source": [
    "def LSTM_model(input_shape, output_shape, neurons, dropout):\n",
    "    x = Input(shape=input_shape)\n",
    "    hidden = LSTM(2 * neurons, return_sequences=True)(x)\n",
    "    hidden = Dropout(dropout)(hidden)\n",
    "    hidden = LSTM(neurons, return_sequences=False)(hidden)\n",
    "    hidden = Dropout(dropout)(hidden)\n",
    "    y = Dense(output_shape, activation='linear')(hidden)\n",
    "    return Model(inputs=x, outputs=y)\n",
    "\n",
    "model = LSTM_model((1, input_len), output_len, 32, 0.1)"
   ]
  },
  {
   "cell_type": "code",
   "execution_count": 12,
   "metadata": {
    "_uuid": "0190b3ee5c24d05af31fe056f465660123681a8e",
    "collapsed": true
   },
   "outputs": [],
   "source": [
    "class LossHistory(Callback):\n",
    "    def __init__(self):\n",
    "        self.loss = []\n",
    "        self.val_loss = []\n",
    "\n",
    "    def on_batch_end(self, epoch, logs={}):\n",
    "        self.loss.append(logs.get('loss'))\n",
    "    \n",
    "    def on_epoch_end(self, epoch, logs={}):\n",
    "        self.val_loss.append(logs.get('loss'))\n",
    "        \n",
    "cb = LossHistory()"
   ]
  },
  {
   "cell_type": "code",
   "execution_count": 13,
   "metadata": {
    "_uuid": "ee25d730799524da5565e32b18279972b6b2946e",
    "collapsed": true
   },
   "outputs": [],
   "source": [
    "optimizer = Adam(lr=0.001, beta_1=0.9, beta_2=0.999, epsilon=1e-8)\n",
    "\n",
    "model.compile(loss='mse', optimizer=optimizer, metrics=['mse'])"
   ]
  },
  {
   "cell_type": "markdown",
   "metadata": {
    "_uuid": "47890c4be2a4b142c14c63838f81a42e0277a4da"
   },
   "source": [
    "### Fine-tuning\n",
    "\n",
    "Let us firstly look at how an untrained model performes beforehand to have a baseline upon which to improve."
   ]
  },
  {
   "cell_type": "code",
   "execution_count": 14,
   "metadata": {
    "_uuid": "41764aa629d87b8fc9bcfef3ad81d6dc2a844c1f",
    "collapsed": false
   },
   "outputs": [
    {
     "name": "stdout",
     "output_type": "stream",
     "text": [
      "897/897 [==============================] - 1s 1ms/step\b\b\b\b\b\b\b\b\b\b\b\b\b\b\b\b\b\b\b\b\b\b\b\b\b\b\b\b\b\b\b\b\b\b\b\b\b\b\b\b\b\b\b\b\b\b\b\b\b\b\b\b\b\b\b\b\b\b\b\b\b\b\b\b\b\b\b\b\b\b\b\b\b\b\b\b\b\b\b\b\b\b\b\b\b\b\b\b\b\b\b\b\b\b\b\b\b\b\n"
     ]
    },
    {
     "data": {
      "text/plain": [
       "[0.00019336132674790512, 0.00019336132674790512]"
      ]
     },
     "execution_count": 14,
     "metadata": {},
     "output_type": "execute_result"
    }
   ],
   "source": [
    "# Load the Google data as the evaluation set.\n",
    "testing = pd.read_csv('goog.us.txt', sep=',')[\"Close\"]\n",
    "    \n",
    "# Process the data\n",
    "LSTM_inputs, LSTM_outputs = split_data_variations_in_windows(testing)\n",
    "LSTM_inputs = np.reshape(LSTM_inputs, (LSTM_inputs.shape[0], 1, LSTM_inputs.shape[1]))\n",
    "\n",
    "# Evaluate\n",
    "model.evaluate(LSTM_inputs, LSTM_outputs)"
   ]
  },
  {
   "cell_type": "code",
   "execution_count": 15,
   "metadata": {
    "_uuid": "17a32751aaef245568d81a27bfe6684e1630799c",
    "collapsed": false
   },
   "outputs": [
    {
     "name": "stdout",
     "output_type": "stream",
     "text": [
      "Epoch 1/1\n",
      "897/897 [==============================] - 1s 1ms/step - loss: 2.3117e-04 - mean_squared_error: 2.3117e-04\b\b\b\b\b\b\b\b\b\b\b\b\b\b\b\b\b\b\b\b\b\b\b\b\b\b\b\b\b\b\b\b\b\b\b\b\b\b\b\b\b\b\b\b\b\b\b\b\b\b\b\b\b\b\b\b\b\b\b\b\b\b\b\b\b\b\b\b\b\b\b\b\b\b\b\b\b\b\b\b\b\b\b\b\b\b\b\b\b\b\b\b\b\b\b\b\b\b\b\b\b\b\b\b\b\b\b\b\b\b\b\b\b\b\b\b\b\b\b\b\b\b\b\b\b\b\b\b\b\b\b\b\b\b\b\b\b\b\b\b\b\b\b\b\b\b\b\b\b\b\b\b\b\b\b\b\b\b\b\b\b\b\b\b\b\b\b\b\b\b\b\b\b\b\b\b\b\b\b\b\b\b\b\b\b\b\b\b\b\b\b\b\b\b\b\b\b\b\b\b\b\b\b\b\b\b\b\b\b\b\b\b\b\b\b\b\b\b\b\b\b\b\b\b\b\b\b\b\b\b\b\b\b\b\b\b\b\b\b\b\b\b\b\b\b\b\b\b\b\b\b\b\b\b\b\b\b\b\b\b\b\b\b\b\b\b\b\b\b\b\b\b\b\b\b\b\b\b\b\b\b\b\b\b\b\b\b\b\b\b\b\b\b\b\b\b\b\b\b\b\b\b\b\b\b\b\b\b\b\b\b\b\b\b\b\b\b\b\b\b\b\b\b\b\b\b\b\b\b\b\b\b\b\b\b\b\b\b\b\b\b\b\b\b\b\b\b\b\b\b\b\b\b\b\b\b\b\b\b\b\b\b\b\b\b\b\b\b\b\b\b\b\b\b\b\b\b\b\b\b\b\b\b\b\b\b\b\b\b\b\b\b\b\b\b\b\b\b\b\b\b\b\b\b\b\b\b\b\b\b\b\b\b\b\b\b\b\b\b\b\b\b\b\b\b\b\b\b\b\b\b\b\b\b\b\b\b\b\b\b\b\b\b\b\b\b\b\b\b\b\b\b\b\b\b\b\b\b\b\b\b\b\b\b\b\b\b\b\b\b\b\b\b\b\b\b\b\b\b\b\b\b\b\b\b\b\b\b\b\b\b\b\b\b\b\b\b\b\b\b\b\b\b\b\b\b\b\b\b\b\b\b\b\b\b\b\b\b\b\b\b\b\b\b\b\b\b\b\b\b\b\b\b\b\b\b\b\b\b\b\b\b\b\b\b\b\b\b\b\b\b\b\b\b\b\b\b\b\b\b\b\b\b\b\b\b\b\b\b\b\b\b\b\b\b\b\b\b\b\b\b\b\b\b\b\b\b\b\b\b\b\b\b\b\b\b\b\b\b\b\b\b\b\b\b\b\b\b\b\b\n"
     ]
    },
    {
     "data": {
      "image/png": "[encoded data removed]",
      "text/plain": [
       "<matplotlib.figure.Figure at 0x7f754187d438>"
      ]
     },
     "metadata": {},
     "output_type": "display_data"
    }
   ],
   "source": [
    "# find learning rate first\n",
    "epoch_size = 20\n",
    "batch_size = 256\n",
    "\n",
    "lr_finder = LRFinder(min_lr=1e-4, \n",
    "                     max_lr=1e-2, \n",
    "                     steps_per_epoch=np.ceil(epoch_size/batch_size), \n",
    "                     epochs=3)\n",
    "model.fit(LSTM_inputs, LSTM_outputs, callbacks=[lr_finder])\n",
    "\n",
    "lr_finder.plot_loss()"
   ]
  },
  {
   "cell_type": "code",
   "execution_count": 16,
   "metadata": {
    "_uuid": "f75a694ea4370a41dbc68768063c5b7ea2ab3272",
    "collapsed": true
   },
   "outputs": [],
   "source": [
    "# Create the Learning Rate Scheduler Callback\n",
    "schedule = SGDRScheduler(min_lr=1e-3,\n",
    "                         max_lr=1e-2,\n",
    "                         steps_per_epoch=np.ceil(epoch_size/batch_size),\n",
    "                         lr_decay=0.9,\n",
    "                         cycle_length= 3,\n",
    "                         mult_factor=1.5)"
   ]
  },
  {
   "cell_type": "markdown",
   "metadata": {
    "_uuid": "1ecc0ee8f400af72737991b28c97658f34cee589"
   },
   "source": [
    "## Training - Stock Price Prediction\n",
    "\n",
    "Let us now look at the raw stock prices."
   ]
  },
  {
   "cell_type": "code",
   "execution_count": 17,
   "metadata": {
    "_uuid": "b320b60dcf2cb7a9106353b43d575bc6b56ff329",
    "collapsed": false,
    "scrolled": true
   },
   "outputs": [],
   "source": [
    "file_dups = []\n",
    "\n",
    "for i in range(25):\n",
    "    # Randomly select a file (that was approved before hand) and load it.\n",
    "    file_nb = random.randint(0, len(files)-1)\n",
    "    if file_nb in file_dups:\n",
    "        continue\n",
    "    else:\n",
    "        file_dups.append(file_nb)\n",
    "    df = pd.read_csv(files[file_nb], sep=',')[\"Close\"]\n",
    "    \n",
    "    # Split the data into train-validation-testing sets (80-20).\n",
    "    length = df.shape[0]\n",
    "    df_train = df[:int(length*0.8)]\n",
    "    df_valid = df[int(length*0.8)+1:]\n",
    "    \n",
    "    # Process the data\n",
    "    LSTM_train_inputs, LSTM_train_outputs = split_data_prices_in_windows(df_train)\n",
    "    LSTM_valid_inputs, LSTM_valid_outputs = split_data_prices_in_windows(df_valid)\n",
    "\n",
    "    LSTM_train_inputs = np.reshape(LSTM_train_inputs, (LSTM_train_inputs.shape[0], 1, LSTM_train_inputs.shape[1]))\n",
    "    LSTM_valid_inputs = np.reshape(LSTM_valid_inputs, (LSTM_valid_inputs.shape[0], 1, LSTM_valid_inputs.shape[1]))\n",
    "    \n",
    "    # Since we want our model to be trained on multiple company stocks, we will only train them for a few epochs.\n",
    "    history = model.fit(LSTM_train_inputs, LSTM_train_outputs, \n",
    "                        validation_data = (LSTM_valid_inputs, LSTM_valid_outputs),\n",
    "                        epochs=5, batch_size=16, verbose=0, callbacks=[cb, schedule])\n",
    "    \n",
    "# Save the model.\n",
    "model.save('../lstm_prices.h5')"
   ]
  },
  {
   "cell_type": "code",
   "execution_count": 18,
   "metadata": {
    "_uuid": "b0d1eb33897300d5d6e63424ee2bda31cda9620f",
    "collapsed": false
   },
   "outputs": [
    {
     "data": {
      "image/png": "[encoded data removed]",
      "text/plain": [
       "<matplotlib.figure.Figure at 0x7f7527031c18>"
      ]
     },
     "metadata": {},
     "output_type": "display_data"
    }
   ],
   "source": [
    "fig = plt.figure()\n",
    "# summarize history for batches\n",
    "plt.plot(cb.loss)\n",
    "plt.title('Model Train Loss')\n",
    "plt.ylabel('Loss')\n",
    "plt.xlabel('Batches')\n",
    "plt.legend(['loss'], loc='upper left')\n",
    "plt.show()"
   ]
  },
  {
   "cell_type": "code",
   "execution_count": 19,
   "metadata": {
    "_uuid": "2ee8cc7d663b6cff1ca0f877afc2303672d854fa",
    "collapsed": false
   },
   "outputs": [
    {
     "data": {
      "image/png": "[encoded data removed]",
      "text/plain": [
       "<matplotlib.figure.Figure at 0x7f7526df3f98>"
      ]
     },
     "metadata": {},
     "output_type": "display_data"
    }
   ],
   "source": [
    "fig = plt.figure()\n",
    "# summarize history for epochs\n",
    "plt.plot(cb.val_loss)\n",
    "plt.title('Model Validation Loss')\n",
    "plt.ylabel('Loss')\n",
    "plt.xlabel('Epoch')\n",
    "plt.legend(['acc', 'loss'], loc='upper left')\n",
    "plt.show()"
   ]
  },
  {
   "cell_type": "markdown",
   "metadata": {
    "_uuid": "1fade4058b116caee391ec072821ce8fa39f8698"
   },
   "source": [
    "## Evaluation\n",
    "\n",
    "Let us now  look at how our model performs."
   ]
  },
  {
   "cell_type": "code",
   "execution_count": 20,
   "metadata": {
    "_uuid": "d008cecdc478fa00b3b42949b8dfd9c04f540390",
    "collapsed": false
   },
   "outputs": [
    {
     "name": "stdout",
     "output_type": "stream",
     "text": [
      "The Mean Squared Error is: 10.667238887186585\n"
     ]
    }
   ],
   "source": [
    "mse = mean_squared_error(LSTM_outputs, model.predict(LSTM_inputs))\n",
    "print('The Mean Squared Error is: {}'.format(mse))"
   ]
  },
  {
   "cell_type": "code",
   "execution_count": 21,
   "metadata": {
    "collapsed": false
   },
   "outputs": [],
   "source": [
    "# Select a random start date for graphing.\n",
    "example_nb = random.randint(0, len(LSTM_outputs))\n",
    "\n",
    "def unsplit_prices(df):\n",
    "    \"\"\"\n",
    "    Function that creates two arrays, one is the original stock prices and the second is \n",
    "    an array of the models predictions.\n",
    "    \"\"\"\n",
    "    # Get the original data.\n",
    "    example_input = df[example_nb : (example_nb+input_len)].copy()\n",
    "    example_input = np.array(example_input)\n",
    "    example_output = df[example_nb+input_len : (example_nb+input_len+output_len)].copy()\n",
    "    example_output = np.array(example_output)\n",
    "    target = np.concatenate((example_input, example_output))\n",
    "\n",
    "    # Predict\n",
    "    tmp = np.reshape(example_input, (1, 1, input_len))\n",
    "    prediction = model.predict(tmp)\n",
    "    \n",
    "    return target, np.concatenate((example_input, prediction[0]))"
   ]
  },
  {
   "cell_type": "code",
   "execution_count": 22,
   "metadata": {
    "_uuid": "c85450218b63fbb1ded6f6a566d68b8f8c5fb694",
    "collapsed": false,
    "scrolled": false
   },
   "outputs": [
    {
     "data": {
      "image/png": "[encoded data removed]",
      "text/plain": [
       "<matplotlib.figure.Figure at 0x7f7526ca2978>"
      ]
     },
     "metadata": {},
     "output_type": "display_data"
    }
   ],
   "source": [
    "x = np.linspace(0, input_len+output_len-1, input_len+output_len)\n",
    "y1, y2 = unsplit_prices(pd.read_csv('goog.us.txt', sep=',')[\"Close\"])\n",
    "\n",
    "fig, ax = plt.subplots()\n",
    "prediction, = ax.plot(x, y2, color='b', label='Prediction')\n",
    "ground_truth, = ax.plot(x, y1, color='g', label='Ground Truth')\n",
    "ax.legend()\n",
    "\n",
    "def update(num, x, y1, prediction, y2, ground_truth):\n",
    "    prediction.set_data(x[:num], y2[:num])\n",
    "    ground_truth.set_data(x[:num], y1[:num])\n",
    "    return prediction, ground_truth,\n",
    "\n",
    "ani = animation.FuncAnimation(fig, update, len(x), fargs=[x, y1, prediction, y2, ground_truth],\n",
    "                              interval=250, blit=True)\n",
    "\n",
    "ani.save('../test_prices.gif', writer=\"imagemagick\")\n",
    "plt.show()"
   ]
  },
  {
   "cell_type": "markdown",
   "metadata": {
    "_uuid": "1ecc0ee8f400af72737991b28c97658f34cee589"
   },
   "source": [
    "## Training - Stock Variation Prediction\n",
    "\n",
    "Since every company is unique in that it operates in a specific field, geographic zone, has different sizes and clients, we need to capture as much of that vairance as possible in our model. We will thus train our model using numerous companies rather than a single one and firstly using the Stock Price Variation."
   ]
  },
  {
   "cell_type": "code",
   "execution_count": 23,
   "metadata": {
    "_uuid": "ee25d730799524da5565e32b18279972b6b2946e",
    "collapsed": true
   },
   "outputs": [],
   "source": [
    "# Refresh our model.\n",
    "model.compile(loss='mse', optimizer=optimizer, metrics=['mse'])"
   ]
  },
  {
   "cell_type": "code",
   "execution_count": 24,
   "metadata": {
    "_uuid": "41764aa629d87b8fc9bcfef3ad81d6dc2a844c1f",
    "collapsed": false
   },
   "outputs": [
    {
     "name": "stdout",
     "output_type": "stream",
     "text": [
      "897/897 [==============================] - 0s 324us/step\b\b\b\b\b\b\b\b\b\b\b\b\b\b\b\b\b\b\b\b\b\b\b\b\b\b\b\b\b\b\b\b\b\b\b\b\b\b\b\b\b\b\b\b\b\b\b\b\b\b\b\b\b\b\b\b\b\b\b\b\b\b\b\b\b\b\b\b\b\b\b\b\b\b\b\b\b\b\b\b\b\b\b\b\b\b\b\b\b\b\b\b\b\b\n"
     ]
    },
    {
     "data": {
      "text/plain": [
       "[445316.3104793757, 445316.3104793757]"
      ]
     },
     "execution_count": 24,
     "metadata": {},
     "output_type": "execute_result"
    }
   ],
   "source": [
    "# Process the data\n",
    "LSTM_inputs, LSTM_outputs = split_data_prices_in_windows(testing)\n",
    "LSTM_inputs = np.reshape(LSTM_inputs, (LSTM_inputs.shape[0], 1, LSTM_inputs.shape[1]))\n",
    "\n",
    "# Evaluate\n",
    "model.evaluate(LSTM_inputs, LSTM_outputs)"
   ]
  },
  {
   "cell_type": "code",
   "execution_count": 25,
   "metadata": {
    "_uuid": "17a32751aaef245568d81a27bfe6684e1630799c",
    "collapsed": false
   },
   "outputs": [
    {
     "name": "stdout",
     "output_type": "stream",
     "text": [
      "Epoch 1/1\n",
      "897/897 [==============================] - 1s 1ms/step - loss: 371115.2997 - mean_squared_error: 371115.2997\b\b\b\b\b\b\b\b\b\b\b\b\b\b\b\b\b\b\b\b\b\b\b\b\b\b\b\b\b\b\b\b\b\b\b\b\b\b\b\b\b\b\b\b\b\b\b\b\b\b\b\b\b\b\b\b\b\b\b\b\b\b\b\b\b\b\b\b\b\b\b\b\b\b\b\b\b\b\b\b\b\b\b\b\b\b\b\b\b\b\b\b\b\b\b\b\b\b\b\b\b\b\b\b\b\b\b\b\b\b\b\b\b\b\b\b\b\b\b\b\b\b\b\b\b\b\b\b\b\b\b\b\b\b\b\b\b\b\b\b\b\b\b\b\b\b\b\b\b\b\b\b\b\b\b\b\b\b\b\b\b\b\b\b\b\b\b\b\b\b\b\b\b\b\b\b\b\b\b\b\b\b\b\b\b\b\b\b\b\b\b\b\b\b\b\b\b\b\b\b\b\b\b\b\b\b\b\b\b\b\b\b\b\b\b\b\b\b\b\b\b\b\b\b\b\b\b\b\b\b\b\b\b\b\b\b\b\b\b\b\b\b\b\b\b\b\b\b\b\b\b\b\b\b\b\b\b\b\b\b\b\b\b\b\b\b\b\b\b\b\b\b\b\b\b\b\b\b\b\b\b\b\b\b\b\b\b\b\b\b\b\b\b\b\b\b\b\b\b\b\b\b\b\b\b\b\b\b\b\b\b\b\b\b\b\b\b\b\b\b\b\b\b\b\b\b\b\b\b\b\b\b\b\b\b\b\b\b\b\b\b\b\b\b\b\b\b\b\b\b\b\b\b\b\b\b\b\b\b\b\b\b\b\b\b\b\b\b\b\b\b\b\b\b\b\b\b\b\b\b\b\b\b\b\b\b\b\b\b\b\b\b\b\b\b\b\b\b\b\b\b\b\b\b\b\b\b\b\b\b\b\b\b\b\b\b\b\b\b\b\b\b\b\b\b\b\b\b\b\b\b\b\b\b\b\b\b\b\b\b\b\b\b\b\b\b\b\b\b\b\b\b\b\b\b\b\b\b\b\b\b\b\b\b\b\b\b\b\b\b\b\b\b\b\b\b\b\b\b\b\b\b\b\b\b\b\b\b\b\b\b\b\b\b\b\b\b\b\b\b\b\b\b\b\b\b\b\b\b\b\b\b\b\b\b\b\b\b\b\b\b\b\b\b\b\b\b\b\b\b\b\b\b\b\b\b\b\b\b\b\b\b\b\b\b\b\b\b\b\b\b\b\b\b\b\b\b\b\b\b\b\b\b\b\b\b\b\b\b\b\b\b\b\b\b\b\b\b\b\b\b\b\b\b\b\b\b\b\b\b\b\b\b\b\b\b\b\b\b\b\b\b\b\b\b\b\b\b\b\b\b\b\b\b\b\b\b\b\b\b\b\b\n"
     ]
    },
    {
     "data": {
      "image/png": "[encoded data removed]",
      "text/plain": [
       "<matplotlib.figure.Figure at 0x7f7526ed42e8>"
      ]
     },
     "metadata": {},
     "output_type": "display_data"
    }
   ],
   "source": [
    "# find learning rate first\n",
    "epoch_size = 20\n",
    "batch_size = 256\n",
    "\n",
    "lr_finder = LRFinder(min_lr=1e-4, \n",
    "                     max_lr=1e-2, \n",
    "                     steps_per_epoch=np.ceil(epoch_size/batch_size), \n",
    "                     epochs=3)\n",
    "model.fit(LSTM_inputs, LSTM_outputs, callbacks=[lr_finder])\n",
    "\n",
    "lr_finder.plot_loss()"
   ]
  },
  {
   "cell_type": "code",
   "execution_count": 26,
   "metadata": {
    "_uuid": "f75a694ea4370a41dbc68768063c5b7ea2ab3272",
    "collapsed": true
   },
   "outputs": [],
   "source": [
    "schedule = SGDRScheduler(min_lr=1e-3,\n",
    "                         max_lr=1e-2,\n",
    "                         steps_per_epoch=np.ceil(epoch_size/batch_size),\n",
    "                         lr_decay=0.9,\n",
    "                         cycle_length= 3,\n",
    "                         mult_factor=1.5)"
   ]
  },
  {
   "cell_type": "code",
   "execution_count": 27,
   "metadata": {
    "_uuid": "b320b60dcf2cb7a9106353b43d575bc6b56ff329",
    "collapsed": false,
    "scrolled": true
   },
   "outputs": [],
   "source": [
    "file_dups = []\n",
    "\n",
    "for i in range(25):\n",
    "    # Randomly select a file (that was approved before hand) and load it.\n",
    "    file_nb = random.randint(0, len(files)-1)\n",
    "    if file_nb in file_dups:\n",
    "        continue\n",
    "    else:\n",
    "        file_dups.append(file_nb)\n",
    "    df = pd.read_csv(files[file_nb], sep=',')[\"Close\"]\n",
    "    \n",
    "    # Split the data into train-validation-testing sets (80-20).\n",
    "    length = df.shape[0]\n",
    "    df_train = df[:int(length*0.8)]\n",
    "    df_valid = df[int(length*0.8)+1:]\n",
    "    \n",
    "    # Process the data\n",
    "    LSTM_train_inputs, LSTM_train_outputs = split_data_variations_in_windows(df_train)\n",
    "    LSTM_valid_inputs, LSTM_valid_outputs = split_data_variations_in_windows(df_valid)\n",
    "\n",
    "    LSTM_train_inputs = np.reshape(LSTM_train_inputs, (LSTM_train_inputs.shape[0], 1, LSTM_train_inputs.shape[1]))\n",
    "    LSTM_valid_inputs = np.reshape(LSTM_valid_inputs, (LSTM_valid_inputs.shape[0], 1, LSTM_valid_inputs.shape[1]))\n",
    "    \n",
    "    # Since we want our model to be trained on multiple company stocks, we will only train them for a few epochs.\n",
    "    history = model.fit(LSTM_train_inputs, LSTM_train_outputs, \n",
    "                        validation_data = (LSTM_valid_inputs, LSTM_valid_outputs),\n",
    "                        epochs=10, batch_size=16, verbose=0, callbacks=[cb, schedule])\n",
    "    \n",
    "# Save the model.\n",
    "model.save('../lstm_variations.h5')"
   ]
  },
  {
   "cell_type": "code",
   "execution_count": 28,
   "metadata": {
    "_uuid": "b0d1eb33897300d5d6e63424ee2bda31cda9620f",
    "collapsed": false
   },
   "outputs": [
    {
     "data": {
      "image/png": "[encoded data removed]",
      "text/plain": [
       "<matplotlib.figure.Figure at 0x7f7526850da0>"
      ]
     },
     "metadata": {},
     "output_type": "display_data"
    }
   ],
   "source": [
    "fig = plt.figure()\n",
    "# summarize history for batches\n",
    "plt.plot(cb.loss)\n",
    "plt.title('Model Train Loss')\n",
    "plt.ylabel('Loss')\n",
    "plt.xlabel('Batches')\n",
    "plt.legend(['loss'], loc='upper left')\n",
    "plt.show()"
   ]
  },
  {
   "cell_type": "code",
   "execution_count": 29,
   "metadata": {
    "_uuid": "2ee8cc7d663b6cff1ca0f877afc2303672d854fa",
    "collapsed": false
   },
   "outputs": [
    {
     "data": {
      "image/png": "[encoded data removed]",
      "text/plain": [
       "<matplotlib.figure.Figure at 0x7f7526c5c2b0>"
      ]
     },
     "metadata": {},
     "output_type": "display_data"
    }
   ],
   "source": [
    "fig = plt.figure()\n",
    "# summarize history for epochs\n",
    "plt.plot(cb.val_loss)\n",
    "plt.title('Model Validation Loss')\n",
    "plt.ylabel('Loss')\n",
    "plt.xlabel('Epoch')\n",
    "plt.legend(['acc', 'loss'], loc='upper left')\n",
    "plt.show()"
   ]
  },
  {
   "cell_type": "markdown",
   "metadata": {
    "_uuid": "1fade4058b116caee391ec072821ce8fa39f8698"
   },
   "source": [
    "## Evaluation\n",
    "\n",
    "Let us now  look at how our model performs."
   ]
  },
  {
   "cell_type": "code",
   "execution_count": 30,
   "metadata": {
    "_uuid": "d008cecdc478fa00b3b42949b8dfd9c04f540390",
    "collapsed": false
   },
   "outputs": [
    {
     "name": "stdout",
     "output_type": "stream",
     "text": [
      "The Mean Squared Error is: 513879.5056235539\n"
     ]
    }
   ],
   "source": [
    "mse = mean_squared_error(LSTM_outputs, model.predict(LSTM_inputs))\n",
    "print('The Mean Squared Error is: {}'.format(mse))"
   ]
  },
  {
   "cell_type": "code",
   "execution_count": 31,
   "metadata": {
    "collapsed": false
   },
   "outputs": [],
   "source": [
    "def unsplit_variations(df):\n",
    "    \"\"\"\n",
    "    Function that creates two arrays, one is the original stock prices and the second is \n",
    "    an array of the models predictions turned from a percent variation back to a stock price.\n",
    "    \"\"\"\n",
    "    # Get the original data.\n",
    "    example_input = df[example_nb : (example_nb+input_len)].copy()\n",
    "    example_input = np.array(example_input)\n",
    "    example_output = df[example_nb+input_len : (example_nb+input_len+output_len)].copy()\n",
    "    example_output = np.array(example_output)\n",
    "    target = np.concatenate((example_input, example_output))\n",
    "\n",
    "    # Predict\n",
    "    tmp = np.reshape(example_input, (1, 1, input_len))\n",
    "    prediction = model.predict(tmp)\n",
    "    # Process\n",
    "    variations = prediction + 1\n",
    "    predicted = variations * example_output\n",
    "    \n",
    "    return target, np.concatenate((example_input, predicted[0]))"
   ]
  },
  {
   "cell_type": "code",
   "execution_count": 32,
   "metadata": {
    "_uuid": "c85450218b63fbb1ded6f6a566d68b8f8c5fb694",
    "collapsed": false,
    "scrolled": false
   },
   "outputs": [
    {
     "data": {
      "image/png": "[encoded data removed]",
      "text/plain": [
       "<matplotlib.figure.Figure at 0x7f7525b7aac8>"
      ]
     },
     "metadata": {},
     "output_type": "display_data"
    }
   ],
   "source": [
    "x = np.linspace(0, input_len+output_len-1, input_len+output_len)\n",
    "y1, y2 = unsplit_variations(testing)\n",
    "\n",
    "fig, ax = plt.subplots()\n",
    "prediction, = ax.plot(x, y2, color='b', label='Prediction')\n",
    "ground_truth, = ax.plot(x, y1, color='g', label='Ground Truth')\n",
    "ax.legend()\n",
    "\n",
    "def update(num, x, y1, prediction, y2, ground_truth):\n",
    "    prediction.set_data(x[:num], y2[:num])\n",
    "    ground_truth.set_data(x[:num], y1[:num])\n",
    "    return prediction, ground_truth,\n",
    "\n",
    "ani = animation.FuncAnimation(fig, update, len(x), fargs=[x, y1, prediction, y2, ground_truth],\n",
    "                              interval=250, blit=True)\n",
    "\n",
    "ani.save('../test_variations.gif', writer=\"imagemagick\")\n",
    "plt.show()"
   ]
  },
  {
   "cell_type": "markdown",
   "metadata": {},
   "source": [
    "## Thoughts\n",
    "\n",
    "Because Companies Stock are very different from one another, our LSTM tends to perform poorly on the raw stock prices. However, when using the percent change, the LSTM perform better be the data is regularized. Thus the model trained with percent variations could be applied to a wider variety of Companies and still be reliable."
   ]
  },
  {
   "cell_type": "code",
   "execution_count": null,
   "metadata": {
    "collapsed": true
   },
   "outputs": [],
   "source": []
  }
 ],
 "metadata": {
  "kernel_info": {
   "name": "python3"
  },
  "kernelspec": {
   "display_name": "Python 3",
   "language": "python",
   "name": "python3"
  },
  "language_info": {
   "codemirror_mode": {
    "name": "ipython",
    "version": 3
   },
   "file_extension": ".py",
   "mimetype": "text/x-python",
   "name": "python",
   "nbconvert_exporter": "python",
   "pygments_lexer": "ipython3",
   "version": "3.6.0"
  },
  "nteract": {
   "version": "0.12.3"
  }
 },
 "nbformat": 4,
 "nbformat_minor": 1
}
