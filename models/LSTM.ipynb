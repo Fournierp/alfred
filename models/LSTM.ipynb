{
 "cells": [
  {
   "cell_type": "markdown",
   "metadata": {},
   "source": [
    "\n",
    "# Stock Market Dataset\n",
    "\n",
    "In this kernel, we will design and train the model we will use in our web app. We will develop a Long Short-Term Memory (LSTM) Neural Network and harness its capability to solve problems in time series. This model will take as input Closing Stock Prices of previous days and predict the next days Stock Prices.\n"
   ]
  },
  {
   "cell_type": "code",
   "execution_count": 1,
   "metadata": {},
   "outputs": [],
   "source": [
    "import yfinance as yf\n",
    "\n",
    "import pandas as pd\n",
    "import numpy as np\n",
    "\n",
    "import datetime\n",
    "\n",
    "import matplotlib.pyplot as plt\n",
    "import matplotlib.animation as animation\n",
    "%matplotlib inline\n",
    "\n",
    "from sklearn.utils import shuffle\n",
    "from sklearn.metrics import mean_squared_error\n",
    "from sklearn.preprocessing import MinMaxScaler\n",
    "\n",
    "from tensorflow.keras.models import Model, Sequential\n",
    "from tensorflow.keras.layers import Dense, Dropout, Input, LSTM\n",
    "from tensorflow.keras.optimizers import Adam\n",
    "from tensorflow.keras.callbacks import Callback"
   ]
  },
  {
   "cell_type": "markdown",
   "metadata": {},
   "source": [
    "\n",
    "# Pre-Processing"
   ]
  },
  {
   "cell_type": "code",
   "execution_count": 2,
   "metadata": {},
   "outputs": [
    {
     "name": "stdout",
     "output_type": "stream",
     "text": [
      "[*********************100%***********************]  1 of 1 completed\n"
     ]
    },
    {
     "data": {
      "text/html": [
       "<div>\n",
       "<style scoped>\n",
       "    .dataframe tbody tr th:only-of-type {\n",
       "        vertical-align: middle;\n",
       "    }\n",
       "\n",
       "    .dataframe tbody tr th {\n",
       "        vertical-align: top;\n",
       "    }\n",
       "\n",
       "    .dataframe thead th {\n",
       "        text-align: right;\n",
       "    }\n",
       "</style>\n",
       "<table border=\"1\" class=\"dataframe\">\n",
       "  <thead>\n",
       "    <tr style=\"text-align: right;\">\n",
       "      <th></th>\n",
       "      <th>Open</th>\n",
       "      <th>High</th>\n",
       "      <th>Low</th>\n",
       "      <th>Close</th>\n",
       "      <th>Adj Close</th>\n",
       "      <th>Volume</th>\n",
       "    </tr>\n",
       "  </thead>\n",
       "  <tbody>\n",
       "    <tr>\n",
       "      <th>2010-06-29</th>\n",
       "      <td>3.800000</td>\n",
       "      <td>5.000000</td>\n",
       "      <td>3.508000</td>\n",
       "      <td>4.778000</td>\n",
       "      <td>4.778000</td>\n",
       "      <td>93831500</td>\n",
       "    </tr>\n",
       "    <tr>\n",
       "      <th>2010-06-30</th>\n",
       "      <td>5.158000</td>\n",
       "      <td>6.084000</td>\n",
       "      <td>4.660000</td>\n",
       "      <td>4.766000</td>\n",
       "      <td>4.766000</td>\n",
       "      <td>85935500</td>\n",
       "    </tr>\n",
       "    <tr>\n",
       "      <th>2010-07-01</th>\n",
       "      <td>5.000000</td>\n",
       "      <td>5.184000</td>\n",
       "      <td>4.054000</td>\n",
       "      <td>4.392000</td>\n",
       "      <td>4.392000</td>\n",
       "      <td>41094000</td>\n",
       "    </tr>\n",
       "    <tr>\n",
       "      <th>2010-07-02</th>\n",
       "      <td>4.600000</td>\n",
       "      <td>4.620000</td>\n",
       "      <td>3.742000</td>\n",
       "      <td>3.840000</td>\n",
       "      <td>3.840000</td>\n",
       "      <td>25699000</td>\n",
       "    </tr>\n",
       "    <tr>\n",
       "      <th>2010-07-06</th>\n",
       "      <td>4.000000</td>\n",
       "      <td>4.000000</td>\n",
       "      <td>3.166000</td>\n",
       "      <td>3.222000</td>\n",
       "      <td>3.222000</td>\n",
       "      <td>34334500</td>\n",
       "    </tr>\n",
       "    <tr>\n",
       "      <th>...</th>\n",
       "      <td>...</td>\n",
       "      <td>...</td>\n",
       "      <td>...</td>\n",
       "      <td>...</td>\n",
       "      <td>...</td>\n",
       "      <td>...</td>\n",
       "    </tr>\n",
       "    <tr>\n",
       "      <th>2020-11-09</th>\n",
       "      <td>439.500000</td>\n",
       "      <td>452.500000</td>\n",
       "      <td>421.000000</td>\n",
       "      <td>421.260010</td>\n",
       "      <td>421.260010</td>\n",
       "      <td>34833000</td>\n",
       "    </tr>\n",
       "    <tr>\n",
       "      <th>2020-11-10</th>\n",
       "      <td>420.089996</td>\n",
       "      <td>420.089996</td>\n",
       "      <td>396.029999</td>\n",
       "      <td>410.359985</td>\n",
       "      <td>410.359985</td>\n",
       "      <td>30284200</td>\n",
       "    </tr>\n",
       "    <tr>\n",
       "      <th>2020-11-11</th>\n",
       "      <td>416.450012</td>\n",
       "      <td>418.700012</td>\n",
       "      <td>410.579987</td>\n",
       "      <td>417.130005</td>\n",
       "      <td>417.130005</td>\n",
       "      <td>17357700</td>\n",
       "    </tr>\n",
       "    <tr>\n",
       "      <th>2020-11-12</th>\n",
       "      <td>415.049988</td>\n",
       "      <td>423.000000</td>\n",
       "      <td>409.519989</td>\n",
       "      <td>411.760010</td>\n",
       "      <td>411.760010</td>\n",
       "      <td>19855100</td>\n",
       "    </tr>\n",
       "    <tr>\n",
       "      <th>2020-11-13</th>\n",
       "      <td>410.850006</td>\n",
       "      <td>412.531891</td>\n",
       "      <td>403.200012</td>\n",
       "      <td>404.170013</td>\n",
       "      <td>404.170013</td>\n",
       "      <td>7967395</td>\n",
       "    </tr>\n",
       "  </tbody>\n",
       "</table>\n",
       "<p>2615 rows × 6 columns</p>\n",
       "</div>"
      ],
      "text/plain": [
       "                  Open        High         Low       Close   Adj Close  \\\n",
       "2010-06-29    3.800000    5.000000    3.508000    4.778000    4.778000   \n",
       "2010-06-30    5.158000    6.084000    4.660000    4.766000    4.766000   \n",
       "2010-07-01    5.000000    5.184000    4.054000    4.392000    4.392000   \n",
       "2010-07-02    4.600000    4.620000    3.742000    3.840000    3.840000   \n",
       "2010-07-06    4.000000    4.000000    3.166000    3.222000    3.222000   \n",
       "...                ...         ...         ...         ...         ...   \n",
       "2020-11-09  439.500000  452.500000  421.000000  421.260010  421.260010   \n",
       "2020-11-10  420.089996  420.089996  396.029999  410.359985  410.359985   \n",
       "2020-11-11  416.450012  418.700012  410.579987  417.130005  417.130005   \n",
       "2020-11-12  415.049988  423.000000  409.519989  411.760010  411.760010   \n",
       "2020-11-13  410.850006  412.531891  403.200012  404.170013  404.170013   \n",
       "\n",
       "              Volume  \n",
       "2010-06-29  93831500  \n",
       "2010-06-30  85935500  \n",
       "2010-07-01  41094000  \n",
       "2010-07-02  25699000  \n",
       "2010-07-06  34334500  \n",
       "...              ...  \n",
       "2020-11-09  34833000  \n",
       "2020-11-10  30284200  \n",
       "2020-11-11  17357700  \n",
       "2020-11-12  19855100  \n",
       "2020-11-13   7967395  \n",
       "\n",
       "[2615 rows x 6 columns]"
      ]
     },
     "execution_count": 2,
     "metadata": {},
     "output_type": "execute_result"
    }
   ],
   "source": [
    "df = yf.download(\"TSLA\")\n",
    "df.index.name = None\n",
    "df"
   ]
  },
  {
   "cell_type": "code",
   "execution_count": 3,
   "metadata": {},
   "outputs": [
    {
     "data": {
      "image/png": "[encoded data removed]",
      "text/plain": [
       "<Figure size 432x288 with 1 Axes>"
      ]
     },
     "metadata": {
      "needs_background": "light"
     },
     "output_type": "display_data"
    }
   ],
   "source": [
    "# Visualising the data\n",
    "plt.plot(df.index, df.iloc[:, 3:4], color = 'b', label = 'TESLA Stock Price')\n",
    "plt.title('TESLA Stock Price History')\n",
    "plt.xlabel('Date')\n",
    "plt.ylabel('TESLA Stock Price')\n",
    "plt.legend()\n",
    "plt.show()"
   ]
  },
  {
   "cell_type": "code",
   "execution_count": 4,
   "metadata": {},
   "outputs": [],
   "source": [
    "# 75-25 Train-Test Split\n",
    "train_set = df.iloc[:int(df.shape[0]*.75), 3:4].values\n",
    "test_set = df.iloc[int(df.shape[0]*.75):, 3:4].values"
   ]
  },
  {
   "cell_type": "code",
   "execution_count": 5,
   "metadata": {},
   "outputs": [],
   "source": [
    "# Feature Scaling\n",
    "sc = MinMaxScaler(feature_range = (0, 1))\n",
    "train_set_scaled = sc.fit_transform(train_set)\n",
    "test_set_scaled = sc.transform(test_set)"
   ]
  },
  {
   "cell_type": "code",
   "execution_count": 6,
   "metadata": {
    "scrolled": true
   },
   "outputs": [],
   "source": [
    "# Raw closing stock price\n",
    "input_len = 60\n",
    "output_len = 1\n",
    "\n",
    "def split_data_prices_in_windows(df):\n",
    "    \"\"\"\n",
    "    Create series of \"input_len\" Closing prices and its coresponding  \"output_len\" price.    \n",
    "    \"\"\"\n",
    "    LSTM_inputs = []\n",
    "    LSTM_outputs = []\n",
    "    for i in range(input_len, len(df)):\n",
    "        # Process the model's input sequence\n",
    "        historical_prices = df[i-input_len : i].copy()\n",
    "        LSTM_inputs.append(np.array(historical_prices))\n",
    "        \n",
    "        # Process the model's expected output sequence\n",
    "        target_price = df[i].copy()        \n",
    "        LSTM_outputs.append(np.array(target_price))\n",
    "        \n",
    "    LSTM_inputs = np.array(LSTM_inputs)\n",
    "    LSTM_outputs = np.array(LSTM_outputs)\n",
    "    \n",
    "    return LSTM_inputs, LSTM_outputs\n",
    "\n",
    "x_train, y_train = split_data_prices_in_windows(train_set_scaled)\n",
    "x_train = np.reshape(x_train, (x_train.shape[0], x_train.shape[1], 1))\n",
    "\n",
    "x_test, y_test = split_data_prices_in_windows(test_set_scaled)\n",
    "x_test = np.reshape(x_test, (x_test.shape[0], x_test.shape[1], 1))"
   ]
  },
  {
   "cell_type": "code",
   "execution_count": 7,
   "metadata": {},
   "outputs": [],
   "source": [
    "# Shuffle data\n",
    "x_train, y_train = shuffle(x_train, y_train)"
   ]
  },
  {
   "cell_type": "markdown",
   "metadata": {},
   "source": [
    "# Model Design"
   ]
  },
  {
   "cell_type": "code",
   "execution_count": null,
   "metadata": {},
   "outputs": [],
   "source": [
    "class LRFinder(Callback):\n",
    "    \n",
    "    '''\n",
    "    A simple callback for finding the optimal learning rate range for your model + dataset. \n",
    "    \n",
    "    # Usage\n",
    "        ```python\n",
    "            lr_finder = LRFinder(min_lr=1e-5, \n",
    "                                 max_lr=1e-2, \n",
    "                                 steps_per_epoch=np.ceil(epoch_size/batch_size), \n",
    "                                 epochs=3)\n",
    "            model.fit(X_train, Y_train, callbacks=[lr_finder])\n",
    "            \n",
    "            lr_finder.plot_loss()\n",
    "        ```\n",
    "    \n",
    "    # Arguments\n",
    "        min_lr: The lower bound of the learning rate range for the experiment.\n",
    "        max_lr: The upper bound of the learning rate range for the experiment.\n",
    "        steps_per_epoch: Number of mini-batches in the dataset. Calculated as `np.ceil(epoch_size/batch_size)`. \n",
    "        epochs: Number of epochs to run experiment. Usually between 2 and 4 epochs is sufficient. \n",
    "        \n",
    "    # References\n",
    "        Blog post: jeremyjordan.me/nn-learning-rate\n",
    "        Original paper: https://arxiv.org/abs/1506.01186\n",
    "    '''\n",
    "    \n",
    "    def __init__(self, min_lr=1e-5, max_lr=1e-2, steps_per_epoch=None, epochs=None):\n",
    "        super().__init__()\n",
    "        \n",
    "        self.min_lr = min_lr\n",
    "        self.max_lr = max_lr\n",
    "        self.total_iterations = steps_per_epoch * epochs\n",
    "        self.iteration = 0\n",
    "        self.history = {}\n",
    "        \n",
    "    def clr(self):\n",
    "        '''Calculate the learning rate.'''\n",
    "        x = self.iteration / self.total_iterations \n",
    "        return self.min_lr + (self.max_lr-self.min_lr) * x\n",
    "        \n",
    "    def on_train_begin(self, logs=None):\n",
    "        '''Initialize the learning rate to the minimum value at the start of training.'''\n",
    "        logs = logs or {}\n",
    "        K.set_value(self.model.optimizer.lr, self.min_lr)\n",
    "        \n",
    "    def on_batch_end(self, epoch, logs=None):\n",
    "        '''Record previous batch statistics and update the learning rate.'''\n",
    "        logs = logs or {}\n",
    "        self.iteration += 1\n",
    "\n",
    "        self.history.setdefault('lr', []).append(K.get_value(self.model.optimizer.lr))\n",
    "        self.history.setdefault('iterations', []).append(self.iteration)\n",
    "\n",
    "        for k, v in logs.items():\n",
    "            self.history.setdefault(k, []).append(v)\n",
    "            \n",
    "        K.set_value(self.model.optimizer.lr, self.clr())\n",
    " \n",
    "    def plot_lr(self):\n",
    "        '''Helper function to quickly inspect the learning rate schedule.'''\n",
    "        plt.plot(self.history['iterations'], self.history['lr'])\n",
    "        plt.yscale('log')\n",
    "        plt.xlabel('Iteration')\n",
    "        plt.ylabel('Learning rate')\n",
    "        \n",
    "    def plot_loss(self):\n",
    "        '''Helper function to quickly observe the learning rate experiment results.'''\n",
    "        plt.plot(self.history['lr'], self.history['loss'])\n",
    "        plt.xscale('log')\n",
    "        plt.xlabel('Learning rate')\n",
    "        plt.ylabel('Loss')"
   ]
  },
  {
   "cell_type": "code",
   "execution_count": null,
   "metadata": {},
   "outputs": [],
   "source": [
    "class SGDRScheduler(Callback):\n",
    "    '''Cosine annealing learning rate scheduler with periodic restarts.\n",
    "    # Usage\n",
    "        ```python\n",
    "            schedule = SGDRScheduler(min_lr=1e-5,\n",
    "                                     max_lr=1e-2,\n",
    "                                     steps_per_epoch=np.ceil(epoch_size/batch_size),\n",
    "                                     lr_decay=0.9,\n",
    "                                     cycle_length=5,\n",
    "                                     mult_factor=1.5)\n",
    "            model.fit(X_train, Y_train, epochs=100, callbacks=[schedule])\n",
    "        ```\n",
    "        \n",
    "    # Arguments\n",
    "        min_lr: The lower bound of the learning rate range for the experiment.\n",
    "        max_lr: The upper bound of the learning rate range for the experiment.\n",
    "        steps_per_epoch: Number of mini-batches in the dataset. Calculated as `np.ceil(epoch_size/batch_size)`. \n",
    "        lr_decay: Reduce the max_lr after the completion of each cycle.\n",
    "                  Ex. To reduce the max_lr by 20% after each cycle, set this value to 0.8.\n",
    "        cycle_length: Initial number of epochs in a cycle.\n",
    "        mult_factor: Scale epochs_to_restart after each full cycle completion.\n",
    "        \n",
    "    # References\n",
    "        Blog post: jeremyjordan.me/nn-learning-rate\n",
    "        Original paper: http://arxiv.org/abs/1608.03983\n",
    "    '''\n",
    "    \n",
    "    def __init__(self,\n",
    "                 min_lr,\n",
    "                 max_lr,\n",
    "                 steps_per_epoch,\n",
    "                 lr_decay=1,\n",
    "                 cycle_length=10,\n",
    "                 mult_factor=2):\n",
    "\n",
    "        self.min_lr = min_lr\n",
    "        self.max_lr = max_lr\n",
    "        self.lr_decay = lr_decay\n",
    "\n",
    "        self.batch_since_restart = 0\n",
    "        self.next_restart = cycle_length\n",
    "\n",
    "        self.steps_per_epoch = steps_per_epoch\n",
    "\n",
    "        self.cycle_length = cycle_length\n",
    "        self.mult_factor = mult_factor\n",
    "\n",
    "        self.history = {}\n",
    "\n",
    "    def clr(self):\n",
    "        '''Calculate the learning rate.'''\n",
    "        fraction_to_restart = self.batch_since_restart / (self.steps_per_epoch * self.cycle_length)\n",
    "        lr = self.min_lr + 0.5 * (self.max_lr - self.min_lr) * (1 + np.cos(fraction_to_restart * np.pi))\n",
    "        return lr\n",
    "\n",
    "    def on_train_begin(self, logs={}):\n",
    "        '''Initialize the learning rate to the minimum value at the start of training.'''\n",
    "        logs = logs or {}\n",
    "        K.set_value(self.model.optimizer.lr, self.max_lr)\n",
    "\n",
    "    def on_batch_end(self, batch, logs={}):\n",
    "        '''Record previous batch statistics and update the learning rate.'''\n",
    "        logs = logs or {}\n",
    "        self.history.setdefault('lr', []).append(K.get_value(self.model.optimizer.lr))\n",
    "        for k, v in logs.items():\n",
    "            self.history.setdefault(k, []).append(v)\n",
    "\n",
    "        self.batch_since_restart += 1\n",
    "        K.set_value(self.model.optimizer.lr, self.clr())\n",
    "\n",
    "    def on_epoch_end(self, epoch, logs={}):\n",
    "        '''Check for end of current cycle, apply restarts when necessary.'''\n",
    "        if epoch + 1 == self.next_restart:\n",
    "            self.batch_since_restart = 0\n",
    "            self.cycle_length = np.ceil(self.cycle_length * self.mult_factor)\n",
    "            self.next_restart += self.cycle_length\n",
    "            self.max_lr *= self.lr_decay\n",
    "            self.best_weights = self.model.get_weights()\n",
    "\n",
    "    def on_train_end(self, logs={}):\n",
    "        '''Set weights to the values from the end of the most recent cycle for best performance.'''\n",
    "        self.model.set_weights(self.best_weights)"
   ]
  },
  {
   "cell_type": "code",
   "execution_count": 8,
   "metadata": {},
   "outputs": [],
   "source": [
    "class LossHistory(Callback):\n",
    "    def __init__(self):\n",
    "        self.loss = []\n",
    "        self.val_loss = []\n",
    "\n",
    "    def on_batch_end(self, epoch, logs={}):\n",
    "        self.loss.append(logs.get('loss'))\n",
    "    \n",
    "    def on_epoch_end(self, epoch, logs={}):\n",
    "        self.val_loss.append(logs.get('loss'))\n",
    "        \n",
    "cb = LossHistory()"
   ]
  },
  {
   "cell_type": "code",
   "execution_count": 9,
   "metadata": {},
   "outputs": [
    {
     "name": "stdout",
     "output_type": "stream",
     "text": [
      "19/19 [==============================] - 0s 9ms/step - loss: 6.3565 - mse: 6.3565\n"
     ]
    },
    {
     "data": {
      "text/plain": [
       "[6.356457710266113, 6.3564581871032715]"
      ]
     },
     "execution_count": 9,
     "metadata": {},
     "output_type": "execute_result"
    }
   ],
   "source": [
    "def LSTM_model(input_shape, output_shape, neurons, dropout):\n",
    "    x = Input(shape=input_shape)\n",
    "    hidden = LSTM(neurons, return_sequences=True)(x)\n",
    "    hidden = Dropout(dropout)(hidden)\n",
    "    hidden = LSTM(neurons, return_sequences=True)(x)\n",
    "    hidden = Dropout(dropout)(hidden)\n",
    "    hidden = LSTM(neurons, return_sequences=True)(x)\n",
    "    hidden = Dropout(dropout)(hidden)\n",
    "    hidden = LSTM(neurons, return_sequences=False)(hidden)\n",
    "    hidden = Dropout(dropout)(hidden)\n",
    "    y = Dense(output_shape, activation='linear')(hidden)\n",
    "    return Model(inputs=x, outputs=y)\n",
    "\n",
    "model = LSTM_model((input_len, 1), output_len, 50, 0.2)\n",
    "\n",
    "optimizer = Adam(lr=0.001, beta_1=0.9, beta_2=0.999, epsilon=1e-8)\n",
    "\n",
    "model.compile(optimizer=optimizer, metrics=['mse'], loss = 'mean_squared_error')\n",
    "\n",
    "# Baseline\n",
    "model.evaluate(x_test, y_test)"
   ]
  },
  {
   "cell_type": "code",
   "execution_count": null,
   "metadata": {},
   "outputs": [],
   "source": [
    "\n",
    "\n",
    "# find learning rate first\n",
    "epoch_size = 20\n",
    "batch_size = 256\n",
    "\n",
    "lr_finder = LRFinder(min_lr=1e-4, \n",
    "                     max_lr=1e-2, \n",
    "                     steps_per_epoch=np.ceil(epoch_size/batch_size), \n",
    "                     epochs=3)\n",
    "model.fit(LSTM_inputs, LSTM_outputs, callbacks=[lr_finder])\n",
    "\n",
    "lr_finder.plot_loss()\n",
    "\n"
   ]
  },
  {
   "cell_type": "code",
   "execution_count": null,
   "metadata": {},
   "outputs": [],
   "source": [
    "# Create the Learning Rate Scheduler Callback\n",
    "schedule = SGDRScheduler(min_lr=1e-3,\n",
    "                         max_lr=1e-2,\n",
    "                         steps_per_epoch=np.ceil(epoch_size/batch_size),\n",
    "                         lr_decay=0.9,\n",
    "                         cycle_length= 3,\n",
    "                         mult_factor=1.5)"
   ]
  },
  {
   "cell_type": "markdown",
   "metadata": {},
   "source": [
    "# Training"
   ]
  },
  {
   "cell_type": "code",
   "execution_count": 10,
   "metadata": {
    "scrolled": true
   },
   "outputs": [
    {
     "name": "stdout",
     "output_type": "stream",
     "text": [
      "Epoch 1/50\n",
      "60/60 [==============================] - 2s 41ms/step - loss: 0.0269 - mse: 0.0269 - val_loss: 1.5610 - val_mse: 1.5610\n",
      "Epoch 2/50\n",
      "60/60 [==============================] - 3s 42ms/step - loss: 0.0036 - mse: 0.0036 - val_loss: 1.4460 - val_mse: 1.4460\n",
      "Epoch 3/50\n",
      "60/60 [==============================] - 3s 45ms/step - loss: 0.0032 - mse: 0.0032 - val_loss: 1.3665 - val_mse: 1.3665\n",
      "Epoch 4/50\n",
      "60/60 [==============================] - 3s 44ms/step - loss: 0.0031 - mse: 0.0031 - val_loss: 1.2937 - val_mse: 1.2937\n",
      "Epoch 5/50\n",
      "60/60 [==============================] - 3s 42ms/step - loss: 0.0031 - mse: 0.0031 - val_loss: 1.2016 - val_mse: 1.2016\n",
      "Epoch 6/50\n",
      "60/60 [==============================] - 3s 44ms/step - loss: 0.0028 - mse: 0.0028 - val_loss: 1.2235 - val_mse: 1.2235\n",
      "Epoch 7/50\n",
      "60/60 [==============================] - 3s 44ms/step - loss: 0.0026 - mse: 0.0026 - val_loss: 1.1244 - val_mse: 1.1244\n",
      "Epoch 8/50\n",
      "60/60 [==============================] - 2s 40ms/step - loss: 0.0026 - mse: 0.0026 - val_loss: 1.0323 - val_mse: 1.0323\n",
      "Epoch 9/50\n",
      "60/60 [==============================] - 2s 42ms/step - loss: 0.0025 - mse: 0.0025 - val_loss: 1.0097 - val_mse: 1.0097\n",
      "Epoch 10/50\n",
      "60/60 [==============================] - 2s 41ms/step - loss: 0.0026 - mse: 0.0026 - val_loss: 0.8188 - val_mse: 0.8188\n",
      "Epoch 11/50\n",
      "60/60 [==============================] - 3s 42ms/step - loss: 0.0023 - mse: 0.0023 - val_loss: 0.8151 - val_mse: 0.8151\n",
      "Epoch 12/50\n",
      "60/60 [==============================] - 2s 41ms/step - loss: 0.0022 - mse: 0.0022 - val_loss: 0.7766 - val_mse: 0.7766\n",
      "Epoch 13/50\n",
      "60/60 [==============================] - 3s 44ms/step - loss: 0.0022 - mse: 0.0022 - val_loss: 0.8261 - val_mse: 0.8261\n",
      "Epoch 14/50\n",
      "60/60 [==============================] - 3s 44ms/step - loss: 0.0021 - mse: 0.0021 - val_loss: 0.7263 - val_mse: 0.7263\n",
      "Epoch 15/50\n",
      "60/60 [==============================] - 3s 43ms/step - loss: 0.0022 - mse: 0.0022 - val_loss: 0.5808 - val_mse: 0.5808\n",
      "Epoch 16/50\n",
      "60/60 [==============================] - 3s 42ms/step - loss: 0.0023 - mse: 0.0023 - val_loss: 0.7173 - val_mse: 0.7173\n",
      "Epoch 17/50\n",
      "60/60 [==============================] - 2s 41ms/step - loss: 0.0020 - mse: 0.0020 - val_loss: 0.6660 - val_mse: 0.6660\n",
      "Epoch 18/50\n",
      "60/60 [==============================] - 2s 39ms/step - loss: 0.0023 - mse: 0.0023 - val_loss: 0.6592 - val_mse: 0.6592\n",
      "Epoch 19/50\n",
      "60/60 [==============================] - 3s 44ms/step - loss: 0.0020 - mse: 0.0020 - val_loss: 0.5933 - val_mse: 0.5933\n",
      "Epoch 20/50\n",
      "60/60 [==============================] - 3s 43ms/step - loss: 0.0020 - mse: 0.0020 - val_loss: 0.5635 - val_mse: 0.5635\n",
      "Epoch 21/50\n",
      "60/60 [==============================] - 2s 40ms/step - loss: 0.0018 - mse: 0.0018 - val_loss: 0.5705 - val_mse: 0.5705\n",
      "Epoch 22/50\n",
      "60/60 [==============================] - 3s 42ms/step - loss: 0.0019 - mse: 0.0019 - val_loss: 0.4496 - val_mse: 0.4496\n",
      "Epoch 23/50\n",
      "60/60 [==============================] - 2s 42ms/step - loss: 0.0018 - mse: 0.0018 - val_loss: 0.5255 - val_mse: 0.5255\n",
      "Epoch 24/50\n",
      "60/60 [==============================] - 3s 42ms/step - loss: 0.0019 - mse: 0.0019 - val_loss: 0.4262 - val_mse: 0.4262\n",
      "Epoch 25/50\n",
      "60/60 [==============================] - 3s 44ms/step - loss: 0.0018 - mse: 0.0018 - val_loss: 0.4796 - val_mse: 0.4796\n",
      "Epoch 26/50\n",
      "60/60 [==============================] - 2s 40ms/step - loss: 0.0017 - mse: 0.0017 - val_loss: 0.4413 - val_mse: 0.4413\n",
      "Epoch 27/50\n",
      "60/60 [==============================] - 3s 42ms/step - loss: 0.0017 - mse: 0.0017 - val_loss: 0.5073 - val_mse: 0.5073\n",
      "Epoch 28/50\n",
      "60/60 [==============================] - 2s 35ms/step - loss: 0.0016 - mse: 0.0016 - val_loss: 0.4197 - val_mse: 0.4197\n",
      "Epoch 29/50\n",
      "60/60 [==============================] - 2s 40ms/step - loss: 0.0016 - mse: 0.0016 - val_loss: 0.3866 - val_mse: 0.3866\n",
      "Epoch 30/50\n",
      "60/60 [==============================] - 2s 39ms/step - loss: 0.0017 - mse: 0.0017 - val_loss: 0.3879 - val_mse: 0.3879\n",
      "Epoch 31/50\n",
      "60/60 [==============================] - 2s 40ms/step - loss: 0.0015 - mse: 0.0015 - val_loss: 0.3354 - val_mse: 0.3354\n",
      "Epoch 32/50\n",
      "60/60 [==============================] - 2s 41ms/step - loss: 0.0015 - mse: 0.0015 - val_loss: 0.3351 - val_mse: 0.3351\n",
      "Epoch 33/50\n",
      "60/60 [==============================] - 2s 41ms/step - loss: 0.0015 - mse: 0.0015 - val_loss: 0.3293 - val_mse: 0.3293\n",
      "Epoch 34/50\n",
      "60/60 [==============================] - 2s 37ms/step - loss: 0.0014 - mse: 0.0014 - val_loss: 0.3464 - val_mse: 0.3464\n",
      "Epoch 35/50\n",
      "60/60 [==============================] - 3s 45ms/step - loss: 0.0015 - mse: 0.0015 - val_loss: 0.4359 - val_mse: 0.4359\n",
      "Epoch 36/50\n",
      "60/60 [==============================] - 2s 39ms/step - loss: 0.0015 - mse: 0.0015 - val_loss: 0.3538 - val_mse: 0.3538\n",
      "Epoch 37/50\n",
      "60/60 [==============================] - 3s 43ms/step - loss: 0.0015 - mse: 0.0015 - val_loss: 0.3725 - val_mse: 0.3725\n",
      "Epoch 38/50\n",
      "60/60 [==============================] - 3s 43ms/step - loss: 0.0014 - mse: 0.0014 - val_loss: 0.3723 - val_mse: 0.3723\n",
      "Epoch 39/50\n",
      "60/60 [==============================] - 3s 42ms/step - loss: 0.0014 - mse: 0.0014 - val_loss: 0.3068 - val_mse: 0.3068\n",
      "Epoch 40/50\n",
      "60/60 [==============================] - 3s 42ms/step - loss: 0.0016 - mse: 0.0016 - val_loss: 0.3796 - val_mse: 0.3796\n",
      "Epoch 41/50\n",
      "60/60 [==============================] - 2s 41ms/step - loss: 0.0013 - mse: 0.0013 - val_loss: 0.3212 - val_mse: 0.3212\n",
      "Epoch 42/50\n",
      "60/60 [==============================] - 3s 42ms/step - loss: 0.0014 - mse: 0.0014 - val_loss: 0.4056 - val_mse: 0.4056\n",
      "Epoch 43/50\n",
      "60/60 [==============================] - 2s 40ms/step - loss: 0.0013 - mse: 0.0013 - val_loss: 0.3182 - val_mse: 0.3182\n",
      "Epoch 44/50\n",
      "60/60 [==============================] - 3s 43ms/step - loss: 0.0013 - mse: 0.0013 - val_loss: 0.3239 - val_mse: 0.3239\n",
      "Epoch 45/50\n",
      "60/60 [==============================] - 2s 41ms/step - loss: 0.0013 - mse: 0.0013 - val_loss: 0.3608 - val_mse: 0.3608\n",
      "Epoch 46/50\n",
      "60/60 [==============================] - 3s 44ms/step - loss: 0.0013 - mse: 0.0013 - val_loss: 0.3099 - val_mse: 0.3099\n",
      "Epoch 47/50\n",
      "60/60 [==============================] - 3s 43ms/step - loss: 0.0012 - mse: 0.0012 - val_loss: 0.2798 - val_mse: 0.2798\n",
      "Epoch 48/50\n",
      "60/60 [==============================] - 3s 42ms/step - loss: 0.0013 - mse: 0.0013 - val_loss: 0.3327 - val_mse: 0.3327\n",
      "Epoch 49/50\n",
      "60/60 [==============================] - 2s 41ms/step - loss: 0.0013 - mse: 0.0013 - val_loss: 0.3207 - val_mse: 0.3207\n",
      "Epoch 50/50\n",
      "60/60 [==============================] - 2s 41ms/step - loss: 0.0014 - mse: 0.0014 - val_loss: 0.3263 - val_mse: 0.3263\n"
     ]
    }
   ],
   "source": [
    "history = model.fit(x_train, y_train, validation_data = (x_test, y_test),\n",
    "          epochs = 50, batch_size = 32, callbacks=[cb, schedule])"
   ]
  },
  {
   "cell_type": "markdown",
   "metadata": {},
   "source": [
    "# Evaluation"
   ]
  },
  {
   "cell_type": "code",
   "execution_count": 11,
   "metadata": {},
   "outputs": [
    {
     "name": "stdout",
     "output_type": "stream",
     "text": [
      "19/19 [==============================] - 0s 10ms/step - loss: 0.3263 - mse: 0.3263\n"
     ]
    },
    {
     "data": {
      "text/plain": [
       "[0.32628974318504333, 0.32628974318504333]"
      ]
     },
     "execution_count": 11,
     "metadata": {},
     "output_type": "execute_result"
    }
   ],
   "source": [
    "model.evaluate(x_test, y_test)"
   ]
  },
  {
   "cell_type": "code",
   "execution_count": 12,
   "metadata": {},
   "outputs": [
    {
     "data": {
      "text/plain": [
       "Text(0.5, 0, 'Epoch')"
      ]
     },
     "execution_count": 12,
     "metadata": {},
     "output_type": "execute_result"
    },
    {
     "data": {
      "image/png": "[encoded data removed]",
      "text/plain": [
       "<Figure size 1152x432 with 2 Axes>"
      ]
     },
     "metadata": {
      "needs_background": "light"
     },
     "output_type": "display_data"
    }
   ],
   "source": [
    "f, (ax1, ax2) = plt.subplots(1, 2, sharey=True, figsize=(16,6))\n",
    "ax1.plot(cb.loss)\n",
    "ax1.set_title('Train Loss')\n",
    "ax1.set_ylabel('Loss')\n",
    "ax1.set_xlabel('Batch')\n",
    "ax2.plot(cb.val_loss)\n",
    "ax2.set_title('Validation Loss')\n",
    "ax2.set_ylabel('Loss')\n",
    "ax2.set_xlabel('Epoch')"
   ]
  },
  {
   "cell_type": "code",
   "execution_count": 13,
   "metadata": {},
   "outputs": [],
   "source": [
    "predicted_stock_price = model.predict(x_test)\n",
    "predicted_stock_price = sc.inverse_transform(predicted_stock_price)"
   ]
  },
  {
   "cell_type": "code",
   "execution_count": 14,
   "metadata": {},
   "outputs": [
    {
     "data": {
      "image/png": "[encoded data removed]",
      "text/plain": [
       "<Figure size 432x288 with 1 Axes>"
      ]
     },
     "metadata": {
      "needs_background": "light"
     },
     "output_type": "display_data"
    }
   ],
   "source": [
    "# Visualising the results\n",
    "plt.plot(df.index[int(df.shape[0]*.75):], df.iloc[int(df.shape[0]*.75):, 3:4],\n",
    "         color = 'green', label = 'Real TESLA Stock Price')\n",
    "plt.plot(df.index[60+int(df.shape[0]*.75):], predicted_stock_price,\n",
    "         color = 'red', label = 'Predicted TESLA Stock Price')\n",
    "plt.title('TESLA Stock Price Prediction')\n",
    "plt.title('TESLA Stock Price Prediction')\n",
    "plt.xlabel('Time')\n",
    "plt.ylabel('TESLA Stock Price')\n",
    "plt.legend()\n",
    "plt.show()"
   ]
  }
 ],
 "metadata": {
  "kernelspec": {
   "display_name": "Python 3",
   "language": "python",
   "name": "python3"
  },
  "language_info": {
   "codemirror_mode": {
    "name": "ipython",
    "version": 3
   },
   "file_extension": ".py",
   "mimetype": "text/x-python",
   "name": "python",
   "nbconvert_exporter": "python",
   "pygments_lexer": "ipython3",
   "version": "3.8.5"
  }
 },
 "nbformat": 4,
 "nbformat_minor": 4
}
