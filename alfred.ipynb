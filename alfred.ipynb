{
 "cells": [
  {
   "cell_type": "markdown",
   "metadata": {},
   "source": [
    "# Alfred - Virtual Assistant for Stock Exchange\n",
    "\n",
    "## @CodeJam(2018)\n",
    "\n",
    "## Paul Fournier"
   ]
  },
  {
   "cell_type": "code",
   "execution_count": 1,
   "metadata": {},
   "outputs": [],
   "source": [
    "# Speech-to-text\n",
    "import speech_recognition as sr\n",
    "\n",
    "# NLP\n",
    "import spacy\n",
    "from spacy import displacy\n",
    "from collections import Counter\n",
    "import en_core_web_sm\n",
    "\n",
    "import nltk.tokenize as nt\n",
    "import nltk\n",
    "\n",
    "# Text-to-speech\n",
    "import pyttsx3"
   ]
  },
  {
   "cell_type": "markdown",
   "metadata": {},
   "source": [
    "## Speech-To-Text"
   ]
  },
  {
   "cell_type": "code",
   "execution_count": 2,
   "metadata": {},
   "outputs": [],
   "source": [
    "# r = sr.Recognizer()\n",
    "\n",
    "# with sr.Microphone() as source:\n",
    "#     print(\"Say something\")\n",
    "#     audio = r.listen(source)#, duration = 5)\n",
    "#     print(\"Time over !\")\n",
    "    \n",
    "# try: \n",
    "#     order_en = r.recognize_google(audio)\n",
    "#     print(\"Text: \"+ order_en)\n",
    "# except:\n",
    "#     pass\n",
    "\n",
    "# try: \n",
    "#     order_fr = r.recognize_google(audio, language = 'fr-FR')\n",
    "#     print(\"Text: \"+ order_fr)\n",
    "# except:\n",
    "#     pass"
   ]
  },
  {
   "cell_type": "markdown",
   "metadata": {},
   "source": [
    "## NLP"
   ]
  },
  {
   "cell_type": "code",
   "execution_count": 3,
   "metadata": {},
   "outputs": [],
   "source": [
    "verb_list = ['VB', 'VBP', '$']\n",
    "quantity_list = ['CARDINAL']\n",
    "company_list = ['GPE', 'ORG']\n",
    "vocab_buy = ['buy', 'purchase', 'acquire', 'get', 'obtain', 'procure', 'take', 'secure', 'procure', 'invest']\n",
    "vocab_sell = ['sell', 'auction', 'market', 'trade', 'dump', 'exchange', 'unload']"
   ]
  },
  {
   "cell_type": "code",
   "execution_count": 4,
   "metadata": {},
   "outputs": [],
   "source": [
    "order_en = \"Alfred, sell hundred stock from Facebook\""
   ]
  },
  {
   "cell_type": "markdown",
   "metadata": {},
   "source": [
    "### Processing the order"
   ]
  },
  {
   "cell_type": "code",
   "execution_count": 5,
   "metadata": {},
   "outputs": [
    {
     "data": {
      "text/plain": [
       "'Alfred, sell hundred stock from Facebook'"
      ]
     },
     "execution_count": 5,
     "metadata": {},
     "output_type": "execute_result"
    }
   ],
   "source": [
    "# Remove characters\n",
    "no_char = \" \".join([word for word in order_en.split() if (len(word) > 1)])\n",
    "no_char"
   ]
  },
  {
   "cell_type": "code",
   "execution_count": 6,
   "metadata": {},
   "outputs": [
    {
     "data": {
      "text/plain": [
       "'Alfred, sell hundred stock from Facebook'"
      ]
     },
     "execution_count": 6,
     "metadata": {},
     "output_type": "execute_result"
    }
   ],
   "source": [
    "# Segment sentences\n",
    "processed = \" \".join([\".\" if str(word) in 'please' else word for word in no_char.split()])\n",
    "processed"
   ]
  },
  {
   "cell_type": "code",
   "execution_count": 7,
   "metadata": {},
   "outputs": [
    {
     "name": "stdout",
     "output_type": "stream",
     "text": [
      "[('hundred', 'CARDINAL'), ('Facebook', 'ORG')]\n"
     ]
    }
   ],
   "source": [
    "# Get entities\n",
    "nlp = en_core_web_sm.load()\n",
    "order = nlp(processed)\n",
    "\n",
    "entities = [(X.text, X.label_) for X in order.ents]\n",
    "print(entities)"
   ]
  },
  {
   "cell_type": "code",
   "execution_count": 8,
   "metadata": {},
   "outputs": [
    {
     "data": {
      "text/plain": [
       "[[('Alfred', 'NNP'),\n",
       "  (',', ','),\n",
       "  ('sell', 'VB'),\n",
       "  ('hundred', 'CD'),\n",
       "  ('stock', 'NN'),\n",
       "  ('from', 'IN'),\n",
       "  ('Facebook', 'NNP')]]"
      ]
     },
     "execution_count": 8,
     "metadata": {},
     "output_type": "execute_result"
    }
   ],
   "source": [
    "# Get verbs\n",
    "ss = nt.sent_tokenize(processed)\n",
    "tokenized_sent = [nt.word_tokenize(sent) for sent in ss]\n",
    "pos_sentences = [nltk.pos_tag(sent) for sent in tokenized_sent]\n",
    "pos_sentences"
   ]
  },
  {
   "cell_type": "code",
   "execution_count": 9,
   "metadata": {},
   "outputs": [
    {
     "data": {
      "text/plain": [
       "[('sell', 'VB')]"
      ]
     },
     "execution_count": 9,
     "metadata": {},
     "output_type": "execute_result"
    }
   ],
   "source": [
    "actions = [action for action in pos_sentences[0] if( action[1] in verb_list) ]\n",
    "actions  "
   ]
  },
  {
   "cell_type": "code",
   "execution_count": 10,
   "metadata": {},
   "outputs": [
    {
     "data": {
      "text/plain": [
       "[]"
      ]
     },
     "execution_count": 10,
     "metadata": {},
     "output_type": "execute_result"
    }
   ],
   "source": [
    "action_buy = [action for action in actions if( action[1] in verb_list and action[0] in vocab_buy) ]\n",
    "action_buy"
   ]
  },
  {
   "cell_type": "code",
   "execution_count": 11,
   "metadata": {},
   "outputs": [
    {
     "data": {
      "text/plain": [
       "[('sell', 'VB')]"
      ]
     },
     "execution_count": 11,
     "metadata": {},
     "output_type": "execute_result"
    }
   ],
   "source": [
    "action_sell = [action for action in actions if( action[1] in verb_list and action[0] in vocab_sell) ]\n",
    "action_sell"
   ]
  },
  {
   "cell_type": "code",
   "execution_count": 12,
   "metadata": {},
   "outputs": [
    {
     "data": {
      "text/plain": [
       "[]"
      ]
     },
     "execution_count": 12,
     "metadata": {},
     "output_type": "execute_result"
    }
   ],
   "source": [
    "action_none = [action for action in actions if( action[1] in verb_list and (action[0] not in vocab_sell and action[0] not in vocab_buy)) ]\n",
    "action_none"
   ]
  },
  {
   "cell_type": "markdown",
   "metadata": {},
   "source": [
    "### Send order"
   ]
  },
  {
   "cell_type": "code",
   "execution_count": 14,
   "metadata": {},
   "outputs": [
    {
     "name": "stdout",
     "output_type": "stream",
     "text": [
      "Do: sell\n",
      "Number: hundred\n",
      "From: Facebook\n"
     ]
    }
   ],
   "source": [
    "entities = [(X.text, X.label_) for X in order.ents]\n",
    "for action in action_buy:\n",
    "    print(\"Do: \" + action[0])\n",
    "    print(\"Number: \" + [number[0] for number in entities if number[1] in quantity_list][0])\n",
    "    print(\"From: \" + [company[0] for company in entities if company[1] in company_list][0])\n",
    "    \n",
    "for action in action_sell:\n",
    "    print(\"Do: \" + action[0])\n",
    "    print(\"Number: \" + [number[0] for number in entities if number[1] in quantity_list][0])\n",
    "    print(\"From: \" + [company[0] for company in entities if company[1] in company_list][0])\n",
    "    "
   ]
  },
  {
   "cell_type": "markdown",
   "metadata": {},
   "source": [
    "## Text-to-speech"
   ]
  },
  {
   "cell_type": "code",
   "execution_count": 26,
   "metadata": {},
   "outputs": [],
   "source": [
    "# Alfred's response\n",
    "alfred = \"I will \" + action[0] + \"a\" + [number[0] for number in entities if number[1] in quantity_list][0] + [company[0] for company in entities if company[1] in company_list][0] + \"stocks\"\n",
    "\n",
    "engine = pyttsx3.init()\n",
    "engine.say(alfred)\n",
    "engine.setProperty('rate',120)\n",
    "engine.setProperty('volume', 0.9)\n",
    "engine.runAndWait()"
   ]
  },
  {
   "cell_type": "code",
   "execution_count": null,
   "metadata": {},
   "outputs": [],
   "source": []
  }
 ],
 "metadata": {
  "kernelspec": {
   "display_name": "Python 3",
   "language": "python",
   "name": "python3"
  },
  "language_info": {
   "codemirror_mode": {
    "name": "ipython",
    "version": 3
   },
   "file_extension": ".py",
   "mimetype": "text/x-python",
   "name": "python",
   "nbconvert_exporter": "python",
   "pygments_lexer": "ipython3",
   "version": "3.6.7"
  }
 },
 "nbformat": 4,
 "nbformat_minor": 2
}
